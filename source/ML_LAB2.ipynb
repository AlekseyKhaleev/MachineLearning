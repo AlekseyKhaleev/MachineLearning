{
 "cells": [
  {
   "cell_type": "code",
   "execution_count": 345,
   "outputs": [
    {
     "data": {
      "text/plain": "<module 'matplotlib.pyplot' from 'C:\\\\Users\\\\user\\\\AppData\\\\Local\\\\pypoetry\\\\Cache\\\\virtualenvs\\\\machinelearning-Uve55_Wm-py3.11\\\\Lib\\\\site-packages\\\\matplotlib\\\\pyplot.py'>"
     },
     "execution_count": 345,
     "metadata": {},
     "output_type": "execute_result"
    }
   ],
   "source": [
    "import matplotlib.pyplot as plt\n",
    "import numpy as np\n",
    "import pandas as pd\n",
    "import seaborn as sns\n",
    "import scipy\n",
    "from sklearn.preprocessing import StandardScaler, LabelEncoder\n",
    "\n",
    "import importlib\n",
    "import warnings\n",
    "\n",
    "\n",
    "warnings.simplefilter('ignore')\n",
    "importlib.reload(plt)"
   ],
   "metadata": {
    "collapsed": false,
    "pycharm": {
     "name": "#%%\n"
    }
   }
  },
  {
   "cell_type": "code",
   "execution_count": 346,
   "outputs": [
    {
     "data": {
      "text/plain": "      pclass  survived                                             name  \\\n0        1.0       1.0                    Allen, Miss. Elisabeth Walton   \n1        1.0       1.0                   Allison, Master. Hudson Trevor   \n2        1.0       0.0                     Allison, Miss. Helen Loraine   \n3        1.0       0.0             Allison, Mr. Hudson Joshua Creighton   \n4        1.0       0.0  Allison, Mrs. Hudson J C (Bessie Waldo Daniels)   \n...      ...       ...                                              ...   \n1305     3.0       0.0                            Zabour, Miss. Thamine   \n1306     3.0       0.0                        Zakarian, Mr. Mapriededer   \n1307     3.0       0.0                              Zakarian, Mr. Ortin   \n1308     3.0       0.0                               Zimmerman, Mr. Leo   \n1309     NaN       NaN                                              NaN   \n\n         sex     age  sibsp  parch  ticket      fare    cabin embarked boat  \\\n0     female      29    0.0    0.0   24160  211,3375       B5        S    2   \n1       male  0,9167    1.0    2.0  113781  151,5500  C22 C26        S   11   \n2     female       2    1.0    2.0  113781  151,5500  C22 C26        S  NaN   \n3       male      30    1.0    2.0  113781  151,5500  C22 C26        S  NaN   \n4     female      25    1.0    2.0  113781  151,5500  C22 C26        S  NaN   \n...      ...     ...    ...    ...     ...       ...      ...      ...  ...   \n1305  female     NaN    1.0    0.0    2665   14,4542      NaN        C  NaN   \n1306    male    26,5    0.0    0.0    2656    7,2250      NaN        C  NaN   \n1307    male      27    0.0    0.0    2670    7,2250      NaN        C  NaN   \n1308    male      29    0.0    0.0  315082    7,8750      NaN        S  NaN   \n1309     NaN     NaN    NaN    NaN     NaN       NaN      NaN      NaN  NaN   \n\n       body                        home.dest  \n0       NaN                     St Louis, MO  \n1       NaN  Montreal, PQ / Chesterville, ON  \n2       NaN  Montreal, PQ / Chesterville, ON  \n3     135.0  Montreal, PQ / Chesterville, ON  \n4       NaN  Montreal, PQ / Chesterville, ON  \n...     ...                              ...  \n1305    NaN                              NaN  \n1306  304.0                              NaN  \n1307    NaN                              NaN  \n1308    NaN                              NaN  \n1309    NaN                              NaN  \n\n[1310 rows x 14 columns]",
      "text/html": "<div>\n<style scoped>\n    .dataframe tbody tr th:only-of-type {\n        vertical-align: middle;\n    }\n\n    .dataframe tbody tr th {\n        vertical-align: top;\n    }\n\n    .dataframe thead th {\n        text-align: right;\n    }\n</style>\n<table border=\"1\" class=\"dataframe\">\n  <thead>\n    <tr style=\"text-align: right;\">\n      <th></th>\n      <th>pclass</th>\n      <th>survived</th>\n      <th>name</th>\n      <th>sex</th>\n      <th>age</th>\n      <th>sibsp</th>\n      <th>parch</th>\n      <th>ticket</th>\n      <th>fare</th>\n      <th>cabin</th>\n      <th>embarked</th>\n      <th>boat</th>\n      <th>body</th>\n      <th>home.dest</th>\n    </tr>\n  </thead>\n  <tbody>\n    <tr>\n      <th>0</th>\n      <td>1.0</td>\n      <td>1.0</td>\n      <td>Allen, Miss. Elisabeth Walton</td>\n      <td>female</td>\n      <td>29</td>\n      <td>0.0</td>\n      <td>0.0</td>\n      <td>24160</td>\n      <td>211,3375</td>\n      <td>B5</td>\n      <td>S</td>\n      <td>2</td>\n      <td>NaN</td>\n      <td>St Louis, MO</td>\n    </tr>\n    <tr>\n      <th>1</th>\n      <td>1.0</td>\n      <td>1.0</td>\n      <td>Allison, Master. Hudson Trevor</td>\n      <td>male</td>\n      <td>0,9167</td>\n      <td>1.0</td>\n      <td>2.0</td>\n      <td>113781</td>\n      <td>151,5500</td>\n      <td>C22 C26</td>\n      <td>S</td>\n      <td>11</td>\n      <td>NaN</td>\n      <td>Montreal, PQ / Chesterville, ON</td>\n    </tr>\n    <tr>\n      <th>2</th>\n      <td>1.0</td>\n      <td>0.0</td>\n      <td>Allison, Miss. Helen Loraine</td>\n      <td>female</td>\n      <td>2</td>\n      <td>1.0</td>\n      <td>2.0</td>\n      <td>113781</td>\n      <td>151,5500</td>\n      <td>C22 C26</td>\n      <td>S</td>\n      <td>NaN</td>\n      <td>NaN</td>\n      <td>Montreal, PQ / Chesterville, ON</td>\n    </tr>\n    <tr>\n      <th>3</th>\n      <td>1.0</td>\n      <td>0.0</td>\n      <td>Allison, Mr. Hudson Joshua Creighton</td>\n      <td>male</td>\n      <td>30</td>\n      <td>1.0</td>\n      <td>2.0</td>\n      <td>113781</td>\n      <td>151,5500</td>\n      <td>C22 C26</td>\n      <td>S</td>\n      <td>NaN</td>\n      <td>135.0</td>\n      <td>Montreal, PQ / Chesterville, ON</td>\n    </tr>\n    <tr>\n      <th>4</th>\n      <td>1.0</td>\n      <td>0.0</td>\n      <td>Allison, Mrs. Hudson J C (Bessie Waldo Daniels)</td>\n      <td>female</td>\n      <td>25</td>\n      <td>1.0</td>\n      <td>2.0</td>\n      <td>113781</td>\n      <td>151,5500</td>\n      <td>C22 C26</td>\n      <td>S</td>\n      <td>NaN</td>\n      <td>NaN</td>\n      <td>Montreal, PQ / Chesterville, ON</td>\n    </tr>\n    <tr>\n      <th>...</th>\n      <td>...</td>\n      <td>...</td>\n      <td>...</td>\n      <td>...</td>\n      <td>...</td>\n      <td>...</td>\n      <td>...</td>\n      <td>...</td>\n      <td>...</td>\n      <td>...</td>\n      <td>...</td>\n      <td>...</td>\n      <td>...</td>\n      <td>...</td>\n    </tr>\n    <tr>\n      <th>1305</th>\n      <td>3.0</td>\n      <td>0.0</td>\n      <td>Zabour, Miss. Thamine</td>\n      <td>female</td>\n      <td>NaN</td>\n      <td>1.0</td>\n      <td>0.0</td>\n      <td>2665</td>\n      <td>14,4542</td>\n      <td>NaN</td>\n      <td>C</td>\n      <td>NaN</td>\n      <td>NaN</td>\n      <td>NaN</td>\n    </tr>\n    <tr>\n      <th>1306</th>\n      <td>3.0</td>\n      <td>0.0</td>\n      <td>Zakarian, Mr. Mapriededer</td>\n      <td>male</td>\n      <td>26,5</td>\n      <td>0.0</td>\n      <td>0.0</td>\n      <td>2656</td>\n      <td>7,2250</td>\n      <td>NaN</td>\n      <td>C</td>\n      <td>NaN</td>\n      <td>304.0</td>\n      <td>NaN</td>\n    </tr>\n    <tr>\n      <th>1307</th>\n      <td>3.0</td>\n      <td>0.0</td>\n      <td>Zakarian, Mr. Ortin</td>\n      <td>male</td>\n      <td>27</td>\n      <td>0.0</td>\n      <td>0.0</td>\n      <td>2670</td>\n      <td>7,2250</td>\n      <td>NaN</td>\n      <td>C</td>\n      <td>NaN</td>\n      <td>NaN</td>\n      <td>NaN</td>\n    </tr>\n    <tr>\n      <th>1308</th>\n      <td>3.0</td>\n      <td>0.0</td>\n      <td>Zimmerman, Mr. Leo</td>\n      <td>male</td>\n      <td>29</td>\n      <td>0.0</td>\n      <td>0.0</td>\n      <td>315082</td>\n      <td>7,8750</td>\n      <td>NaN</td>\n      <td>S</td>\n      <td>NaN</td>\n      <td>NaN</td>\n      <td>NaN</td>\n    </tr>\n    <tr>\n      <th>1309</th>\n      <td>NaN</td>\n      <td>NaN</td>\n      <td>NaN</td>\n      <td>NaN</td>\n      <td>NaN</td>\n      <td>NaN</td>\n      <td>NaN</td>\n      <td>NaN</td>\n      <td>NaN</td>\n      <td>NaN</td>\n      <td>NaN</td>\n      <td>NaN</td>\n      <td>NaN</td>\n      <td>NaN</td>\n    </tr>\n  </tbody>\n</table>\n<p>1310 rows × 14 columns</p>\n</div>"
     },
     "execution_count": 346,
     "metadata": {},
     "output_type": "execute_result"
    }
   ],
   "source": [
    "df = pd.read_csv('5_titanic/titanic3.csv', sep=';')\n",
    "df"
   ],
   "metadata": {
    "collapsed": false,
    "pycharm": {
     "name": "#%%\n"
    }
   }
  },
  {
   "cell_type": "code",
   "execution_count": 347,
   "outputs": [],
   "source": [
    "df[['age', 'fare']] = df[['age', 'fare']].replace(',', '.', regex=True).astype(float)"
   ],
   "metadata": {
    "collapsed": false,
    "pycharm": {
     "name": "#%%\n"
    }
   }
  },
  {
   "cell_type": "code",
   "execution_count": 348,
   "outputs": [
    {
     "name": "stdout",
     "output_type": "stream",
     "text": [
      "Размер набора данных до удаления дубликатов: (1310, 14)\n",
      "Размер набора данных после удаления дубликатов: (1310, 14)\n"
     ]
    }
   ],
   "source": [
    "print('Размер набора данных до удаления дубликатов:', df.shape)\n",
    "\n",
    "# Удалите дубликаты\n",
    "df = df.drop_duplicates()\n",
    "\n",
    "# Выведите размер набора данных после удаления дубликатов\n",
    "print('Размер набора данных после удаления дубликатов:', df.shape)"
   ],
   "metadata": {
    "collapsed": false,
    "pycharm": {
     "name": "#%%\n"
    }
   }
  },
  {
   "cell_type": "code",
   "execution_count": 349,
   "outputs": [
    {
     "data": {
      "text/plain": "<Figure size 640x480 with 1 Axes>",
      "image/png": "[encoded data removed]"
     },
     "metadata": {},
     "output_type": "display_data"
    }
   ],
   "source": [
    "# Подсчет количества каждого класса\n",
    "class_counts = df['pclass'].value_counts()\n",
    "\n",
    "# Построение гистограммы\n",
    "class_counts.plot(kind='bar')\n",
    "plt.title('Распределение классов')\n",
    "plt.xlabel('Класс')\n",
    "plt.ylabel('Количество')\n",
    "plt.show()"
   ],
   "metadata": {
    "collapsed": false,
    "pycharm": {
     "name": "#%%\n"
    }
   }
  },
  {
   "cell_type": "code",
   "execution_count": 350,
   "outputs": [],
   "source": [
    "# Так как данные несбалансированы (один класс имеет гораздо больше наблюдений, чем другой), то лучше использовать PR-кривую (Precision-Recall), так как ROC-кривая может давать оптимистичную оценку качества модели на несбалансированных данных.\n"
   ],
   "metadata": {
    "collapsed": false,
    "pycharm": {
     "name": "#%%\n"
    }
   }
  },
  {
   "cell_type": "code",
   "execution_count": 351,
   "outputs": [
    {
     "data": {
      "text/plain": "<Figure size 1000x600 with 1 Axes>",
      "image/png": "[encoded data removed]"
     },
     "metadata": {},
     "output_type": "display_data"
    },
    {
     "data": {
      "text/plain": "<Figure size 1000x600 with 1 Axes>",
      "image/png": "[encoded data removed]"
     },
     "metadata": {},
     "output_type": "display_data"
    }
   ],
   "source": [
    "# Рассмотрим стандартизацию. Предположим, что к количественным признакам относятся age, sibsp, parch и fare.\n",
    "# Создаем экземпляр класса StandardScaler\n",
    "scaler = StandardScaler()\n",
    "\n",
    "# Выбираем количественные признаки\n",
    "quantitative_features = df[['age', 'sibsp', 'parch', 'fare']]\n",
    "\n",
    "# Построение BoxPlot до масштабирования\n",
    "plt.figure(figsize=(10, 6))\n",
    "sns.boxplot(data=quantitative_features)\n",
    "plt.title('BoxPlot до масштабирования')\n",
    "plt.show()\n",
    "\n",
    "# Применяем масштабирование\n",
    "scaled_features = scaler.fit_transform(quantitative_features)\n",
    "scaled_df = pd.DataFrame(scaled_features, columns=['age', 'sibsp', 'parch', 'fare'])\n",
    "\n",
    "# Построение BoxPlot после масштабирования\n",
    "plt.figure(figsize=(10, 6))\n",
    "sns.boxplot(data=scaled_df)\n",
    "plt.title('BoxPlot после масштабирования')\n",
    "plt.show()"
   ],
   "metadata": {
    "collapsed": false,
    "pycharm": {
     "name": "#%%\n"
    }
   }
  },
  {
   "cell_type": "code",
   "execution_count": 352,
   "outputs": [
    {
     "data": {
      "text/plain": "      pclass  survived                                             name  \\\n0        1.0       1.0                    Allen, Miss. Elisabeth Walton   \n1        1.0       1.0                   Allison, Master. Hudson Trevor   \n2        1.0       0.0                     Allison, Miss. Helen Loraine   \n3        1.0       0.0             Allison, Mr. Hudson Joshua Creighton   \n4        1.0       0.0  Allison, Mrs. Hudson J C (Bessie Waldo Daniels)   \n...      ...       ...                                              ...   \n1305     3.0       0.0                            Zabour, Miss. Thamine   \n1306     3.0       0.0                        Zakarian, Mr. Mapriededer   \n1307     3.0       0.0                              Zakarian, Mr. Ortin   \n1308     3.0       0.0                               Zimmerman, Mr. Leo   \n1309     NaN       NaN                                              NaN   \n\n         sex       age     sibsp     parch  ticket      fare    cabin  \\\n0     female -0.061162 -0.479087 -0.445000   24160  3.441165       B5   \n1       male -2.010496  0.481288  1.866526  113781  2.285603  C22 C26   \n2     female -1.935302  0.481288  1.866526  113781  2.285603  C22 C26   \n3       male  0.008251  0.481288  1.866526  113781  2.285603  C22 C26   \n4     female -0.338812  0.481288  1.866526  113781  2.285603  C22 C26   \n...      ...       ...       ...       ...     ...       ...      ...   \n1305  female       NaN  0.481288 -0.445000    2665 -0.364161      NaN   \n1306    male -0.234693 -0.479087 -0.445000    2656 -0.503886      NaN   \n1307    male -0.199987 -0.479087 -0.445000    2670 -0.503886      NaN   \n1308    male -0.061162 -0.479087 -0.445000  315082 -0.491323      NaN   \n1309     NaN       NaN       NaN       NaN     NaN       NaN      NaN   \n\n     embarked boat   body                        home.dest  \n0           S    2    NaN                     St Louis, MO  \n1           S   11    NaN  Montreal, PQ / Chesterville, ON  \n2           S  NaN    NaN  Montreal, PQ / Chesterville, ON  \n3           S  NaN  135.0  Montreal, PQ / Chesterville, ON  \n4           S  NaN    NaN  Montreal, PQ / Chesterville, ON  \n...       ...  ...    ...                              ...  \n1305        C  NaN    NaN                              NaN  \n1306        C  NaN  304.0                              NaN  \n1307        C  NaN    NaN                              NaN  \n1308        S  NaN    NaN                              NaN  \n1309      NaN  NaN    NaN                              NaN  \n\n[1310 rows x 14 columns]",
      "text/html": "<div>\n<style scoped>\n    .dataframe tbody tr th:only-of-type {\n        vertical-align: middle;\n    }\n\n    .dataframe tbody tr th {\n        vertical-align: top;\n    }\n\n    .dataframe thead th {\n        text-align: right;\n    }\n</style>\n<table border=\"1\" class=\"dataframe\">\n  <thead>\n    <tr style=\"text-align: right;\">\n      <th></th>\n      <th>pclass</th>\n      <th>survived</th>\n      <th>name</th>\n      <th>sex</th>\n      <th>age</th>\n      <th>sibsp</th>\n      <th>parch</th>\n      <th>ticket</th>\n      <th>fare</th>\n      <th>cabin</th>\n      <th>embarked</th>\n      <th>boat</th>\n      <th>body</th>\n      <th>home.dest</th>\n    </tr>\n  </thead>\n  <tbody>\n    <tr>\n      <th>0</th>\n      <td>1.0</td>\n      <td>1.0</td>\n      <td>Allen, Miss. Elisabeth Walton</td>\n      <td>female</td>\n      <td>-0.061162</td>\n      <td>-0.479087</td>\n      <td>-0.445000</td>\n      <td>24160</td>\n      <td>3.441165</td>\n      <td>B5</td>\n      <td>S</td>\n      <td>2</td>\n      <td>NaN</td>\n      <td>St Louis, MO</td>\n    </tr>\n    <tr>\n      <th>1</th>\n      <td>1.0</td>\n      <td>1.0</td>\n      <td>Allison, Master. Hudson Trevor</td>\n      <td>male</td>\n      <td>-2.010496</td>\n      <td>0.481288</td>\n      <td>1.866526</td>\n      <td>113781</td>\n      <td>2.285603</td>\n      <td>C22 C26</td>\n      <td>S</td>\n      <td>11</td>\n      <td>NaN</td>\n      <td>Montreal, PQ / Chesterville, ON</td>\n    </tr>\n    <tr>\n      <th>2</th>\n      <td>1.0</td>\n      <td>0.0</td>\n      <td>Allison, Miss. Helen Loraine</td>\n      <td>female</td>\n      <td>-1.935302</td>\n      <td>0.481288</td>\n      <td>1.866526</td>\n      <td>113781</td>\n      <td>2.285603</td>\n      <td>C22 C26</td>\n      <td>S</td>\n      <td>NaN</td>\n      <td>NaN</td>\n      <td>Montreal, PQ / Chesterville, ON</td>\n    </tr>\n    <tr>\n      <th>3</th>\n      <td>1.0</td>\n      <td>0.0</td>\n      <td>Allison, Mr. Hudson Joshua Creighton</td>\n      <td>male</td>\n      <td>0.008251</td>\n      <td>0.481288</td>\n      <td>1.866526</td>\n      <td>113781</td>\n      <td>2.285603</td>\n      <td>C22 C26</td>\n      <td>S</td>\n      <td>NaN</td>\n      <td>135.0</td>\n      <td>Montreal, PQ / Chesterville, ON</td>\n    </tr>\n    <tr>\n      <th>4</th>\n      <td>1.0</td>\n      <td>0.0</td>\n      <td>Allison, Mrs. Hudson J C (Bessie Waldo Daniels)</td>\n      <td>female</td>\n      <td>-0.338812</td>\n      <td>0.481288</td>\n      <td>1.866526</td>\n      <td>113781</td>\n      <td>2.285603</td>\n      <td>C22 C26</td>\n      <td>S</td>\n      <td>NaN</td>\n      <td>NaN</td>\n      <td>Montreal, PQ / Chesterville, ON</td>\n    </tr>\n    <tr>\n      <th>...</th>\n      <td>...</td>\n      <td>...</td>\n      <td>...</td>\n      <td>...</td>\n      <td>...</td>\n      <td>...</td>\n      <td>...</td>\n      <td>...</td>\n      <td>...</td>\n      <td>...</td>\n      <td>...</td>\n      <td>...</td>\n      <td>...</td>\n      <td>...</td>\n    </tr>\n    <tr>\n      <th>1305</th>\n      <td>3.0</td>\n      <td>0.0</td>\n      <td>Zabour, Miss. Thamine</td>\n      <td>female</td>\n      <td>NaN</td>\n      <td>0.481288</td>\n      <td>-0.445000</td>\n      <td>2665</td>\n      <td>-0.364161</td>\n      <td>NaN</td>\n      <td>C</td>\n      <td>NaN</td>\n      <td>NaN</td>\n      <td>NaN</td>\n    </tr>\n    <tr>\n      <th>1306</th>\n      <td>3.0</td>\n      <td>0.0</td>\n      <td>Zakarian, Mr. Mapriededer</td>\n      <td>male</td>\n      <td>-0.234693</td>\n      <td>-0.479087</td>\n      <td>-0.445000</td>\n      <td>2656</td>\n      <td>-0.503886</td>\n      <td>NaN</td>\n      <td>C</td>\n      <td>NaN</td>\n      <td>304.0</td>\n      <td>NaN</td>\n    </tr>\n    <tr>\n      <th>1307</th>\n      <td>3.0</td>\n      <td>0.0</td>\n      <td>Zakarian, Mr. Ortin</td>\n      <td>male</td>\n      <td>-0.199987</td>\n      <td>-0.479087</td>\n      <td>-0.445000</td>\n      <td>2670</td>\n      <td>-0.503886</td>\n      <td>NaN</td>\n      <td>C</td>\n      <td>NaN</td>\n      <td>NaN</td>\n      <td>NaN</td>\n    </tr>\n    <tr>\n      <th>1308</th>\n      <td>3.0</td>\n      <td>0.0</td>\n      <td>Zimmerman, Mr. Leo</td>\n      <td>male</td>\n      <td>-0.061162</td>\n      <td>-0.479087</td>\n      <td>-0.445000</td>\n      <td>315082</td>\n      <td>-0.491323</td>\n      <td>NaN</td>\n      <td>S</td>\n      <td>NaN</td>\n      <td>NaN</td>\n      <td>NaN</td>\n    </tr>\n    <tr>\n      <th>1309</th>\n      <td>NaN</td>\n      <td>NaN</td>\n      <td>NaN</td>\n      <td>NaN</td>\n      <td>NaN</td>\n      <td>NaN</td>\n      <td>NaN</td>\n      <td>NaN</td>\n      <td>NaN</td>\n      <td>NaN</td>\n      <td>NaN</td>\n      <td>NaN</td>\n      <td>NaN</td>\n      <td>NaN</td>\n    </tr>\n  </tbody>\n</table>\n<p>1310 rows × 14 columns</p>\n</div>"
     },
     "execution_count": 352,
     "metadata": {},
     "output_type": "execute_result"
    }
   ],
   "source": [
    "df[['age', 'sibsp', 'parch', 'fare']] = scaled_features\n",
    "df"
   ],
   "metadata": {
    "collapsed": false,
    "pycharm": {
     "name": "#%%\n"
    }
   }
  },
  {
   "cell_type": "code",
   "execution_count": 353,
   "outputs": [
    {
     "data": {
      "text/plain": "      pclass  survived                                             name  \\\n0        1.0       1.0                    Allen, Miss. Elisabeth Walton   \n1        1.0       1.0                   Allison, Master. Hudson Trevor   \n2        1.0       0.0                     Allison, Miss. Helen Loraine   \n3        1.0       0.0             Allison, Mr. Hudson Joshua Creighton   \n4        1.0       0.0  Allison, Mrs. Hudson J C (Bessie Waldo Daniels)   \n...      ...       ...                                              ...   \n1305     3.0       0.0                            Zabour, Miss. Thamine   \n1306     3.0       0.0                        Zakarian, Mr. Mapriededer   \n1307     3.0       0.0                              Zakarian, Mr. Ortin   \n1308     3.0       0.0                               Zimmerman, Mr. Leo   \n1309     NaN       NaN                                              NaN   \n\n           age     sibsp     parch  ticket      fare    cabin boat   body  \\\n0    -0.061162 -0.479087 -0.445000   24160  3.441165       B5    2    NaN   \n1    -2.010496  0.481288  1.866526  113781  2.285603  C22 C26   11    NaN   \n2    -1.935302  0.481288  1.866526  113781  2.285603  C22 C26  NaN    NaN   \n3     0.008251  0.481288  1.866526  113781  2.285603  C22 C26  NaN  135.0   \n4    -0.338812  0.481288  1.866526  113781  2.285603  C22 C26  NaN    NaN   \n...        ...       ...       ...     ...       ...      ...  ...    ...   \n1305       NaN  0.481288 -0.445000    2665 -0.364161      NaN  NaN    NaN   \n1306 -0.234693 -0.479087 -0.445000    2656 -0.503886      NaN  NaN  304.0   \n1307 -0.199987 -0.479087 -0.445000    2670 -0.503886      NaN  NaN    NaN   \n1308 -0.061162 -0.479087 -0.445000  315082 -0.491323      NaN  NaN    NaN   \n1309       NaN       NaN       NaN     NaN       NaN      NaN  NaN    NaN   \n\n                            home.dest  sex_female  sex_male  embarked_C  \\\n0                        St Louis, MO        True     False       False   \n1     Montreal, PQ / Chesterville, ON       False      True       False   \n2     Montreal, PQ / Chesterville, ON        True     False       False   \n3     Montreal, PQ / Chesterville, ON       False      True       False   \n4     Montreal, PQ / Chesterville, ON        True     False       False   \n...                               ...         ...       ...         ...   \n1305                              NaN        True     False        True   \n1306                              NaN       False      True        True   \n1307                              NaN       False      True        True   \n1308                              NaN       False      True       False   \n1309                              NaN       False     False       False   \n\n      embarked_Q  embarked_S  \n0          False        True  \n1          False        True  \n2          False        True  \n3          False        True  \n4          False        True  \n...          ...         ...  \n1305       False       False  \n1306       False       False  \n1307       False       False  \n1308       False        True  \n1309       False       False  \n\n[1310 rows x 17 columns]",
      "text/html": "<div>\n<style scoped>\n    .dataframe tbody tr th:only-of-type {\n        vertical-align: middle;\n    }\n\n    .dataframe tbody tr th {\n        vertical-align: top;\n    }\n\n    .dataframe thead th {\n        text-align: right;\n    }\n</style>\n<table border=\"1\" class=\"dataframe\">\n  <thead>\n    <tr style=\"text-align: right;\">\n      <th></th>\n      <th>pclass</th>\n      <th>survived</th>\n      <th>name</th>\n      <th>age</th>\n      <th>sibsp</th>\n      <th>parch</th>\n      <th>ticket</th>\n      <th>fare</th>\n      <th>cabin</th>\n      <th>boat</th>\n      <th>body</th>\n      <th>home.dest</th>\n      <th>sex_female</th>\n      <th>sex_male</th>\n      <th>embarked_C</th>\n      <th>embarked_Q</th>\n      <th>embarked_S</th>\n    </tr>\n  </thead>\n  <tbody>\n    <tr>\n      <th>0</th>\n      <td>1.0</td>\n      <td>1.0</td>\n      <td>Allen, Miss. Elisabeth Walton</td>\n      <td>-0.061162</td>\n      <td>-0.479087</td>\n      <td>-0.445000</td>\n      <td>24160</td>\n      <td>3.441165</td>\n      <td>B5</td>\n      <td>2</td>\n      <td>NaN</td>\n      <td>St Louis, MO</td>\n      <td>True</td>\n      <td>False</td>\n      <td>False</td>\n      <td>False</td>\n      <td>True</td>\n    </tr>\n    <tr>\n      <th>1</th>\n      <td>1.0</td>\n      <td>1.0</td>\n      <td>Allison, Master. Hudson Trevor</td>\n      <td>-2.010496</td>\n      <td>0.481288</td>\n      <td>1.866526</td>\n      <td>113781</td>\n      <td>2.285603</td>\n      <td>C22 C26</td>\n      <td>11</td>\n      <td>NaN</td>\n      <td>Montreal, PQ / Chesterville, ON</td>\n      <td>False</td>\n      <td>True</td>\n      <td>False</td>\n      <td>False</td>\n      <td>True</td>\n    </tr>\n    <tr>\n      <th>2</th>\n      <td>1.0</td>\n      <td>0.0</td>\n      <td>Allison, Miss. Helen Loraine</td>\n      <td>-1.935302</td>\n      <td>0.481288</td>\n      <td>1.866526</td>\n      <td>113781</td>\n      <td>2.285603</td>\n      <td>C22 C26</td>\n      <td>NaN</td>\n      <td>NaN</td>\n      <td>Montreal, PQ / Chesterville, ON</td>\n      <td>True</td>\n      <td>False</td>\n      <td>False</td>\n      <td>False</td>\n      <td>True</td>\n    </tr>\n    <tr>\n      <th>3</th>\n      <td>1.0</td>\n      <td>0.0</td>\n      <td>Allison, Mr. Hudson Joshua Creighton</td>\n      <td>0.008251</td>\n      <td>0.481288</td>\n      <td>1.866526</td>\n      <td>113781</td>\n      <td>2.285603</td>\n      <td>C22 C26</td>\n      <td>NaN</td>\n      <td>135.0</td>\n      <td>Montreal, PQ / Chesterville, ON</td>\n      <td>False</td>\n      <td>True</td>\n      <td>False</td>\n      <td>False</td>\n      <td>True</td>\n    </tr>\n    <tr>\n      <th>4</th>\n      <td>1.0</td>\n      <td>0.0</td>\n      <td>Allison, Mrs. Hudson J C (Bessie Waldo Daniels)</td>\n      <td>-0.338812</td>\n      <td>0.481288</td>\n      <td>1.866526</td>\n      <td>113781</td>\n      <td>2.285603</td>\n      <td>C22 C26</td>\n      <td>NaN</td>\n      <td>NaN</td>\n      <td>Montreal, PQ / Chesterville, ON</td>\n      <td>True</td>\n      <td>False</td>\n      <td>False</td>\n      <td>False</td>\n      <td>True</td>\n    </tr>\n    <tr>\n      <th>...</th>\n      <td>...</td>\n      <td>...</td>\n      <td>...</td>\n      <td>...</td>\n      <td>...</td>\n      <td>...</td>\n      <td>...</td>\n      <td>...</td>\n      <td>...</td>\n      <td>...</td>\n      <td>...</td>\n      <td>...</td>\n      <td>...</td>\n      <td>...</td>\n      <td>...</td>\n      <td>...</td>\n      <td>...</td>\n    </tr>\n    <tr>\n      <th>1305</th>\n      <td>3.0</td>\n      <td>0.0</td>\n      <td>Zabour, Miss. Thamine</td>\n      <td>NaN</td>\n      <td>0.481288</td>\n      <td>-0.445000</td>\n      <td>2665</td>\n      <td>-0.364161</td>\n      <td>NaN</td>\n      <td>NaN</td>\n      <td>NaN</td>\n      <td>NaN</td>\n      <td>True</td>\n      <td>False</td>\n      <td>True</td>\n      <td>False</td>\n      <td>False</td>\n    </tr>\n    <tr>\n      <th>1306</th>\n      <td>3.0</td>\n      <td>0.0</td>\n      <td>Zakarian, Mr. Mapriededer</td>\n      <td>-0.234693</td>\n      <td>-0.479087</td>\n      <td>-0.445000</td>\n      <td>2656</td>\n      <td>-0.503886</td>\n      <td>NaN</td>\n      <td>NaN</td>\n      <td>304.0</td>\n      <td>NaN</td>\n      <td>False</td>\n      <td>True</td>\n      <td>True</td>\n      <td>False</td>\n      <td>False</td>\n    </tr>\n    <tr>\n      <th>1307</th>\n      <td>3.0</td>\n      <td>0.0</td>\n      <td>Zakarian, Mr. Ortin</td>\n      <td>-0.199987</td>\n      <td>-0.479087</td>\n      <td>-0.445000</td>\n      <td>2670</td>\n      <td>-0.503886</td>\n      <td>NaN</td>\n      <td>NaN</td>\n      <td>NaN</td>\n      <td>NaN</td>\n      <td>False</td>\n      <td>True</td>\n      <td>True</td>\n      <td>False</td>\n      <td>False</td>\n    </tr>\n    <tr>\n      <th>1308</th>\n      <td>3.0</td>\n      <td>0.0</td>\n      <td>Zimmerman, Mr. Leo</td>\n      <td>-0.061162</td>\n      <td>-0.479087</td>\n      <td>-0.445000</td>\n      <td>315082</td>\n      <td>-0.491323</td>\n      <td>NaN</td>\n      <td>NaN</td>\n      <td>NaN</td>\n      <td>NaN</td>\n      <td>False</td>\n      <td>True</td>\n      <td>False</td>\n      <td>False</td>\n      <td>True</td>\n    </tr>\n    <tr>\n      <th>1309</th>\n      <td>NaN</td>\n      <td>NaN</td>\n      <td>NaN</td>\n      <td>NaN</td>\n      <td>NaN</td>\n      <td>NaN</td>\n      <td>NaN</td>\n      <td>NaN</td>\n      <td>NaN</td>\n      <td>NaN</td>\n      <td>NaN</td>\n      <td>NaN</td>\n      <td>False</td>\n      <td>False</td>\n      <td>False</td>\n      <td>False</td>\n      <td>False</td>\n    </tr>\n  </tbody>\n</table>\n<p>1310 rows × 17 columns</p>\n</div>"
     },
     "execution_count": 353,
     "metadata": {},
     "output_type": "execute_result"
    }
   ],
   "source": [
    "df = pd.get_dummies(df, columns=['sex', 'embarked'])\n",
    "df\n"
   ],
   "metadata": {
    "collapsed": false,
    "pycharm": {
     "name": "#%%\n"
    }
   }
  },
  {
   "cell_type": "code",
   "execution_count": 354,
   "outputs": [
    {
     "data": {
      "text/plain": "array(['St Louis, MO', 'Montreal, PQ / Chesterville, ON', 'New York, NY',\n       'Hudson, NY', 'Belfast, NI', 'Bayside, Queens, NY',\n       'Montevideo, Uruguay', 'Paris, France', nan, 'Hessle, Yorks',\n       'Montreal, PQ', 'Winnipeg, MN', 'San Francisco, CA',\n       'Dowagiac, MI', 'Stockholm, Sweden / Washington, DC',\n       'Trenton, NJ', 'Glen Ridge, NJ', 'Youngstown, OH',\n       'Birkdale, England Cleveland, Ohio', 'London / Winnipeg, MB',\n       'Cooperstown, NY', 'St Leonards-on-Sea, England Ohio',\n       'Los Angeles, CA', 'Pomeroy, WA', 'Omaha, NE', 'Philadelphia, PA',\n       'Denver, CO', 'Belmont, MA', 'Washington, DC',\n       'Austria-Hungary / Germantown, Philadelphia, PA',\n       'Germantown, Philadelphia, PA', 'Bryn Mawr, PA',\n       'Ascot, Berkshire / Rochester, NY', 'Little Onn Hall, Staffs',\n       'Amenia, ND', 'New York, NY / Ithaca, NY', 'London, England',\n       'Liverpool, England / Belfast', 'Stoughton, MA', 'Victoria, BC',\n       'Lakewood, NJ', 'Roachdale, IN', 'Milwaukee, WI', 'Lima, Peru',\n       'Calgary, AB', 'Deephaven, MN / Cedar Rapids, IA',\n       'London / Paris', 'Mt Airy, Philadelphia, PA', 'Brookline, MA',\n       'Brooklyn, NY', 'Winnipeg, MB', 'Westcliff-on-Sea, Essex',\n       'Zurich, Switzerland', 'Scituate, MA',\n       \"St Anne's-on-Sea, Lancashire\", 'Paris, France / New York, NY',\n       'Greenwich, CT', 'Kingston, Surrey', 'London / Middlesex',\n       'Brighton, MA', 'London / Birmingham', 'Chicago, IL',\n       'Indianapolis, IN', 'New York, NY /  Stamford CT',\n       'Paris, France New York, NY', 'Liverpool', 'Bennington, VT',\n       'London', 'Buffalo, NY', 'Southington / Noank, CT', 'Boston, MA',\n       'Portland, OR', 'Stockholm, Sweden', 'Springfield, MA',\n       'London / New York, NY', 'Brockton, MA', 'Belgium  Montreal, PQ',\n       'Vancouver, BC', 'Dorchester, MA', 'East Bridgewater, MA',\n       'Fond du Lac, WI', 'Green Bay, WI', 'Lexington, MA',\n       'Isle of Wight, England', 'Providence, RI', '?Havana, Cuba',\n       'Belfast', 'Surbiton Hill, Surrey', 'Isleworth, England',\n       'Madrid, Spain', 'Toronto, ON', 'Worcester, MA',\n       'Rotterdam, Netherlands', 'Paris /  New York, NY', 'Seattle, WA',\n       'London  Vancouver, BC', 'Haverford, PA / Cooperstown, NY',\n       'Manchester, England', 'New York, NY / Greenwich CT', 'Duluth, MN',\n       'Basel, Switzerland', 'New Britain, CT',\n       'St James, Long Island, NY', 'Huntington, WV', 'Streatham, Surrey',\n       'Minneapolis, MN', 'Tuxedo Park, NY',\n       'Wimbledon Park, London / Hayling Island, Hants', 'Newark, NJ',\n       'Haverford, PA', 'Gallipolis, Ohio / ? Paris / New York',\n       'Cincinatti, OH', 'Haddenfield, NJ', 'London /  East Orange, NJ',\n       'Albany, NY', 'Mexico City, Mexico', 'East Orange, NJ',\n       'England Salt Lake City, Utah', 'Brunswick, ME',\n       'New York, NY / Briarcliff Manor NY', 'Elkins Park, PA',\n       'Geneva, Switzerland / Radnor, PA', 'Halifax, NS',\n       'New York, NY / Washington, DC', 'Russia New York, NY',\n       'Bryn Mawr, PA, USA', 'Buenos Aires, Argentina / New Jersey, NJ',\n       'Cornwall, England Houghton, MI', 'Warwick, England',\n       'West Hoboken, NJ', 'Penzance, Cornwall / Akron, OH', 'Guernsey',\n       'Bristol, Avon / Jacksonville, FL',\n       'Plymouth, Dorset / Houghton, MI', 'Jacksonville, FL',\n       'Norwich / New York, NY', 'England',\n       'Guntur, India / Benton Harbour, MI', 'Rochester, NY',\n       'St Ives, Cornwall / Calumet, MI', 'Elmira, NY / Orange, NJ',\n       'Lake Arthur, Chavez County, NM', 'London / Montreal, PQ',\n       'Cape Town, South Africa / Seattle, WA',\n       'Skara, Sweden / Rockford, IL',\n       'Sittingbourne, England / San Diego, CA', 'Southsea, Hants',\n       'Bangkok, Thailand / Roseville, IL', 'Mamaroneck, NY', 'Bronx, NY',\n       'Cornwall / Spokane, WA', 'England / San Francisco, CA',\n       'Hartford, Huntingdonshire', 'Helsinki, Finland Ashtabula, Ohio',\n       'London / Fort Byron, NY',\n       'Bishopstoke, Hants / Fayette Valley, ID', 'Pennsylvania',\n       'Provo, UT', 'Upper Burma, India Pittsburgh, PA',\n       'St Ives, Cornwall / Hancock, MI', 'Lyndhurst, England',\n       'London / Staten Island, NY', 'Portugal / Sau Paulo, Brazil',\n       'Lucca, Italy / California', 'Guernsey / Elizabeth, NJ',\n       'New Forest, England', 'Southampton', 'Holley, NY',\n       'Greenport, NY', 'Barcelona, Spain / Havana, Cuba',\n       'England / Detroit, MI', 'Goteborg, Sweden / Rockford, IL',\n       'Oslo, Norway Bayonne, NJ', 'England / Philadelphia, PA',\n       'Cornwall / Houghton, MI', 'Janjgir, India / Pennsylvania',\n       'Liverpool / Montreal, PQ', 'Cornwall / Clear Creek, CO',\n       'Cornwall', 'Cornwall / Camden, NJ', 'West Kensington, London',\n       'Clevedon, England', 'Auburn, NY', 'Detroit, MI',\n       'Seattle, WA / Toledo, OH', 'Denmark Hill, Surrey / Chicago',\n       'Walthamstow, England', 'Ilford, Essex / Winnipeg, MB',\n       'Somerset / Bernardsville, NJ', 'India / Rapid City, SD',\n       'West Hampstead, London / Neepawa, MB',\n       'Kontiolahti, Finland / Detroit, MI', 'Cornwall / Akron, OH',\n       'Devonport, England', 'England / Sacramento, CA', 'Tokyo, Japan',\n       'Swindon, England', 'North Evington, England',\n       'St Ives, Cornwall / Houghton, MI', 'Moscow / Bronx, NY',\n       'India / Pittsburgh, PA', 'Harrisburg, PA', 'Glasgow / Bangor, ME',\n       'Sweden / Arlington, NJ', 'Paris / Haiti',\n       'Berne, Switzerland / Central City, IA', 'London / Chicago, IL',\n       'Weston-Super-Mare, Somerset', 'Southampton / New York, NY',\n       'Paris', 'Paris / Montreal, PQ', 'St Austall, Cornwall',\n       'Weston-Super-Mare / Moose Jaw, SK', 'Sydney, Australia',\n       'Sarnia, ON', 'England / Bennington, VT', 'Chelsea, London',\n       'Harrow-on-the-Hill, Middlesex', 'Copenhagen, Denmark',\n       'Guernsey / Montclair, NJ and/or Toledo, Ohio', 'Frankfort, KY',\n       'Halesworth, England', 'Cambridge, MA', 'Nice, France',\n       'Cornwall / Hancock, MI', 'Glasgow', 'Cologne, Germany',\n       'Folkstone, Kent / New York, NY', 'Middleburg Heights, OH',\n       'Pondersend, England / New Durham, NJ', 'Spain / Havana, Cuba',\n       'Hamilton, ON', 'St Andrews, Guernsey', 'Woodford County, KY',\n       'Gunnislake, England / Butte, MT', 'Ilfracombe, Devon',\n       'Worcester, England', 'Russia', 'Denmark / New York, NY',\n       'Milford, NH', 'Plymouth, Devon / Detroit, MI', 'Brighton, Sussex',\n       'Elizabeth, NJ', 'Spain',\n       'London, England / Marietta, Ohio and Milwaukee, WI',\n       'Guernsey / Wilmington, DE', 'Hornsey, England', 'Deer Lodge, MT',\n       'Finland / Minneapolis, MN', 'Finland / Washington, DC',\n       'Sault St Marie, ON', 'Catford, Kent / Detroit, MI',\n       'Columbus, OH', 'Bath, England / Massachusetts',\n       'Plymouth, England', 'Barre, Co Washington, VT',\n       'Bristol, England / New Britain, CT', 'Aberdeen / Portland, OR',\n       'England / Hartford, CT', 'Bromsgrove, England / Montreal, PQ',\n       'Bournmouth, England', 'Guernsey, England / Edgewood, RI',\n       'Harrow, England', 'Yoevil, England / Cottage Grove, OR',\n       'East Providence, RI', 'Norway Los Angeles, CA',\n       'Perkins County, SD', 'Taalintehdas, Finland Hoboken, NJ',\n       'Greensburg, PA', 'Asarum, Sweden Brooklyn, NY',\n       'Bournemouth, England', 'Sweden Akeley, MN',\n       'London, England Norfolk, VA', 'Syria Fredericksburg, VA',\n       'England Albion, NY', 'Salo, Finland Astoria, OR', 'Argentina',\n       'Lower Clapton, Middlesex or Erdington, Birmingham',\n       'Windsor, England New York, NY', 'Bergen, Norway',\n       'Sweden Winnipeg, MN', 'Ruotsinphyhtaa, Finland New York, NY',\n       'Vadsbro, Sweden Ministee, MI', 'Hartford, CT',\n       'Sweden Chicago, IL', 'Bulgaria Chicago, IL',\n       'Altdorf, Switzerland', 'Sweden Joliet, IL',\n       'Sweden  Worcester, MA', 'Sweden Worcester, MA',\n       'Oskarshamn, Sweden Minneapolis, MN', 'Ottawa, ON',\n       'Krakoryd, Sweden Bloomington, IL', 'Syria Youngstown, OH',\n       'Ruotsinphytaa, Finland New York, NY', 'Syria New York, NY',\n       'London Skanteales, NY', 'Syria Ottawa, ON',\n       'England New York, NY', 'Krakudden, Sweden Moune, IL',\n       'Tranvik, Finland New York', 'Syria', 'Hong Kong New York, NY',\n       'Brennes, Norway New York', 'Stockholm, Sweden New York',\n       'Syria Kent, ON', 'Ireland Chicago, IL',\n       'Treherbert, Cardiff, Wales',\n       'Kingwilliamstown, Co Cork, Ireland Glens Falls, NY',\n       'Medeltorp, Sweden Chicago, IL', 'Bridgerule, Devon',\n       'Broomfield, Chelmsford, England', 'Co Cork, Ireland Roxbury, MA',\n       'Kingwilliamstown, Co Cork, Ireland New York, NY',\n       'Co Cork, Ireland Charlestown, MA',\n       'Co Sligo, Ireland New York, NY', 'Croatia',\n       'Ireland Philadelphia, PA', 'Dagsas, Sweden Fower, MN',\n       'Goteborg, Sweden Huntley, IL',\n       'Co Longford, Ireland New York, NY',\n       'Co Sligo, Ireland Hartford, CT', 'St Denys, Southampton, Hants',\n       'Ireland New York, NY', 'Greece', 'Portugal',\n       'London Brooklyn, NY', 'Co Limerick, Ireland Sherbrooke, PQ',\n       'Ireland Brooklyn, NY', 'Ireland', 'Austria',\n       'England Brooklyn, NY', 'Merrill, WI',\n       'Bristol, England Cleveland, OH',\n       'Bournemouth, England Newark, NJ', 'Austria-Hungary',\n       'Australia Fingal, ND', 'Norrlot, Sweden Chicago, IL',\n       'Co Athlone, Ireland New York, NY', 'Stanton, IA',\n       'West Bromwich, England Pontiac, MI',\n       'Liverpool, England Bedford, OH', 'Tampico, MT',\n       'Belgium Detroit, MI', 'Devon, England Wichita, KS',\n       'Bulgaria Coon Rapids, IA',\n       'Kilmacowen, Co Sligo, Ireland New York, NY',\n       'England Oglesby, IL', 'Union Hill, NJ', 'London New York, NY',\n       'Austria Niagara Falls, NY', 'West Haven, CT',\n       'Tofta, Sweden Joliet, IL', 'Karberg, Sweden Jerome Junction, AZ',\n       'Effington Rut, SD', 'Illinois, USA',\n       'Aughnacliff, Co Longford, Ireland New York, NY',\n       'Italy Philadelphia, PA',\n       'Rotherfield, Sussex, England Essex Co, MA',\n       'Bridgwater, Somerset, England',\n       'Co Clare, Ireland Washington, DC',\n       'Strood, Kent, England Detroit, MI',\n       'Wiltshire, England Niagara Falls, NY', 'Dorking, Surrey, England',\n       'Foresvik, Norway Portland, ND', 'Waukegan, Chicago, IL',\n       'Myren, Sweden New York, NY', 'Finland Sudbury, ON',\n       'Oslo, Norway Cameron, WI', 'Antwerp, Belgium / Stanton, OH'],\n      dtype=object)"
     },
     "execution_count": 354,
     "metadata": {},
     "output_type": "execute_result"
    }
   ],
   "source": [
    "df['home.dest'].unique()"
   ],
   "metadata": {
    "collapsed": false,
    "pycharm": {
     "name": "#%%\n"
    }
   }
  },
  {
   "cell_type": "code",
   "execution_count": 355,
   "outputs": [
    {
     "data": {
      "text/plain": "0                          St Louis, MO\n1       Montreal, PQ / Chesterville, ON\n2       Montreal, PQ / Chesterville, ON\n3       Montreal, PQ / Chesterville, ON\n4       Montreal, PQ / Chesterville, ON\n                     ...               \n1305                                NaN\n1306                                NaN\n1307                                NaN\n1308                                NaN\n1309                                NaN\nName: home.dest, Length: 1310, dtype: object"
     },
     "execution_count": 355,
     "metadata": {},
     "output_type": "execute_result"
    }
   ],
   "source": [
    "df['home.dest']"
   ],
   "metadata": {
    "collapsed": false,
    "pycharm": {
     "name": "#%%\n"
    }
   }
  },
  {
   "cell_type": "code",
   "execution_count": 356,
   "outputs": [
    {
     "data": {
      "text/plain": "      pclass  survived                                             name  \\\n0        1.0       1.0                    Allen, Miss. Elisabeth Walton   \n1        1.0       1.0                   Allison, Master. Hudson Trevor   \n2        1.0       0.0                     Allison, Miss. Helen Loraine   \n3        1.0       0.0             Allison, Mr. Hudson Joshua Creighton   \n4        1.0       0.0  Allison, Mrs. Hudson J C (Bessie Waldo Daniels)   \n...      ...       ...                                              ...   \n1305     3.0       0.0                            Zabour, Miss. Thamine   \n1306     3.0       0.0                        Zakarian, Mr. Mapriededer   \n1307     3.0       0.0                              Zakarian, Mr. Ortin   \n1308     3.0       0.0                               Zimmerman, Mr. Leo   \n1309     NaN       NaN                                              NaN   \n\n           age     sibsp     parch  ticket      fare    cabin boat   body  \\\n0    -0.061162 -0.479087 -0.445000   24160  3.441165       B5    2    NaN   \n1    -2.010496  0.481288  1.866526  113781  2.285603  C22 C26   11    NaN   \n2    -1.935302  0.481288  1.866526  113781  2.285603  C22 C26  NaN    NaN   \n3     0.008251  0.481288  1.866526  113781  2.285603  C22 C26  NaN  135.0   \n4    -0.338812  0.481288  1.866526  113781  2.285603  C22 C26  NaN    NaN   \n...        ...       ...       ...     ...       ...      ...  ...    ...   \n1305       NaN  0.481288 -0.445000    2665 -0.364161      NaN  NaN    NaN   \n1306 -0.234693 -0.479087 -0.445000    2656 -0.503886      NaN  NaN  304.0   \n1307 -0.199987 -0.479087 -0.445000    2670 -0.503886      NaN  NaN    NaN   \n1308 -0.061162 -0.479087 -0.445000  315082 -0.491323      NaN  NaN    NaN   \n1309       NaN       NaN       NaN     NaN       NaN      NaN  NaN    NaN   \n\n      home.dest  sex_female  sex_male  embarked_C  embarked_Q  embarked_S  \n0           308        True     False       False       False        True  \n1           230       False      True       False       False        True  \n2           230        True     False       False       False        True  \n3           230       False      True       False       False        True  \n4           230        True     False       False       False        True  \n...         ...         ...       ...         ...         ...         ...  \n1305        369        True     False        True       False       False  \n1306        369       False      True        True       False       False  \n1307        369       False      True        True       False       False  \n1308        369       False      True       False       False        True  \n1309        369       False     False       False       False       False  \n\n[1310 rows x 17 columns]",
      "text/html": "<div>\n<style scoped>\n    .dataframe tbody tr th:only-of-type {\n        vertical-align: middle;\n    }\n\n    .dataframe tbody tr th {\n        vertical-align: top;\n    }\n\n    .dataframe thead th {\n        text-align: right;\n    }\n</style>\n<table border=\"1\" class=\"dataframe\">\n  <thead>\n    <tr style=\"text-align: right;\">\n      <th></th>\n      <th>pclass</th>\n      <th>survived</th>\n      <th>name</th>\n      <th>age</th>\n      <th>sibsp</th>\n      <th>parch</th>\n      <th>ticket</th>\n      <th>fare</th>\n      <th>cabin</th>\n      <th>boat</th>\n      <th>body</th>\n      <th>home.dest</th>\n      <th>sex_female</th>\n      <th>sex_male</th>\n      <th>embarked_C</th>\n      <th>embarked_Q</th>\n      <th>embarked_S</th>\n    </tr>\n  </thead>\n  <tbody>\n    <tr>\n      <th>0</th>\n      <td>1.0</td>\n      <td>1.0</td>\n      <td>Allen, Miss. Elisabeth Walton</td>\n      <td>-0.061162</td>\n      <td>-0.479087</td>\n      <td>-0.445000</td>\n      <td>24160</td>\n      <td>3.441165</td>\n      <td>B5</td>\n      <td>2</td>\n      <td>NaN</td>\n      <td>308</td>\n      <td>True</td>\n      <td>False</td>\n      <td>False</td>\n      <td>False</td>\n      <td>True</td>\n    </tr>\n    <tr>\n      <th>1</th>\n      <td>1.0</td>\n      <td>1.0</td>\n      <td>Allison, Master. Hudson Trevor</td>\n      <td>-2.010496</td>\n      <td>0.481288</td>\n      <td>1.866526</td>\n      <td>113781</td>\n      <td>2.285603</td>\n      <td>C22 C26</td>\n      <td>11</td>\n      <td>NaN</td>\n      <td>230</td>\n      <td>False</td>\n      <td>True</td>\n      <td>False</td>\n      <td>False</td>\n      <td>True</td>\n    </tr>\n    <tr>\n      <th>2</th>\n      <td>1.0</td>\n      <td>0.0</td>\n      <td>Allison, Miss. Helen Loraine</td>\n      <td>-1.935302</td>\n      <td>0.481288</td>\n      <td>1.866526</td>\n      <td>113781</td>\n      <td>2.285603</td>\n      <td>C22 C26</td>\n      <td>NaN</td>\n      <td>NaN</td>\n      <td>230</td>\n      <td>True</td>\n      <td>False</td>\n      <td>False</td>\n      <td>False</td>\n      <td>True</td>\n    </tr>\n    <tr>\n      <th>3</th>\n      <td>1.0</td>\n      <td>0.0</td>\n      <td>Allison, Mr. Hudson Joshua Creighton</td>\n      <td>0.008251</td>\n      <td>0.481288</td>\n      <td>1.866526</td>\n      <td>113781</td>\n      <td>2.285603</td>\n      <td>C22 C26</td>\n      <td>NaN</td>\n      <td>135.0</td>\n      <td>230</td>\n      <td>False</td>\n      <td>True</td>\n      <td>False</td>\n      <td>False</td>\n      <td>True</td>\n    </tr>\n    <tr>\n      <th>4</th>\n      <td>1.0</td>\n      <td>0.0</td>\n      <td>Allison, Mrs. Hudson J C (Bessie Waldo Daniels)</td>\n      <td>-0.338812</td>\n      <td>0.481288</td>\n      <td>1.866526</td>\n      <td>113781</td>\n      <td>2.285603</td>\n      <td>C22 C26</td>\n      <td>NaN</td>\n      <td>NaN</td>\n      <td>230</td>\n      <td>True</td>\n      <td>False</td>\n      <td>False</td>\n      <td>False</td>\n      <td>True</td>\n    </tr>\n    <tr>\n      <th>...</th>\n      <td>...</td>\n      <td>...</td>\n      <td>...</td>\n      <td>...</td>\n      <td>...</td>\n      <td>...</td>\n      <td>...</td>\n      <td>...</td>\n      <td>...</td>\n      <td>...</td>\n      <td>...</td>\n      <td>...</td>\n      <td>...</td>\n      <td>...</td>\n      <td>...</td>\n      <td>...</td>\n      <td>...</td>\n    </tr>\n    <tr>\n      <th>1305</th>\n      <td>3.0</td>\n      <td>0.0</td>\n      <td>Zabour, Miss. Thamine</td>\n      <td>NaN</td>\n      <td>0.481288</td>\n      <td>-0.445000</td>\n      <td>2665</td>\n      <td>-0.364161</td>\n      <td>NaN</td>\n      <td>NaN</td>\n      <td>NaN</td>\n      <td>369</td>\n      <td>True</td>\n      <td>False</td>\n      <td>True</td>\n      <td>False</td>\n      <td>False</td>\n    </tr>\n    <tr>\n      <th>1306</th>\n      <td>3.0</td>\n      <td>0.0</td>\n      <td>Zakarian, Mr. Mapriededer</td>\n      <td>-0.234693</td>\n      <td>-0.479087</td>\n      <td>-0.445000</td>\n      <td>2656</td>\n      <td>-0.503886</td>\n      <td>NaN</td>\n      <td>NaN</td>\n      <td>304.0</td>\n      <td>369</td>\n      <td>False</td>\n      <td>True</td>\n      <td>True</td>\n      <td>False</td>\n      <td>False</td>\n    </tr>\n    <tr>\n      <th>1307</th>\n      <td>3.0</td>\n      <td>0.0</td>\n      <td>Zakarian, Mr. Ortin</td>\n      <td>-0.199987</td>\n      <td>-0.479087</td>\n      <td>-0.445000</td>\n      <td>2670</td>\n      <td>-0.503886</td>\n      <td>NaN</td>\n      <td>NaN</td>\n      <td>NaN</td>\n      <td>369</td>\n      <td>False</td>\n      <td>True</td>\n      <td>True</td>\n      <td>False</td>\n      <td>False</td>\n    </tr>\n    <tr>\n      <th>1308</th>\n      <td>3.0</td>\n      <td>0.0</td>\n      <td>Zimmerman, Mr. Leo</td>\n      <td>-0.061162</td>\n      <td>-0.479087</td>\n      <td>-0.445000</td>\n      <td>315082</td>\n      <td>-0.491323</td>\n      <td>NaN</td>\n      <td>NaN</td>\n      <td>NaN</td>\n      <td>369</td>\n      <td>False</td>\n      <td>True</td>\n      <td>False</td>\n      <td>False</td>\n      <td>True</td>\n    </tr>\n    <tr>\n      <th>1309</th>\n      <td>NaN</td>\n      <td>NaN</td>\n      <td>NaN</td>\n      <td>NaN</td>\n      <td>NaN</td>\n      <td>NaN</td>\n      <td>NaN</td>\n      <td>NaN</td>\n      <td>NaN</td>\n      <td>NaN</td>\n      <td>NaN</td>\n      <td>369</td>\n      <td>False</td>\n      <td>False</td>\n      <td>False</td>\n      <td>False</td>\n      <td>False</td>\n    </tr>\n  </tbody>\n</table>\n<p>1310 rows × 17 columns</p>\n</div>"
     },
     "execution_count": 356,
     "metadata": {},
     "output_type": "execute_result"
    }
   ],
   "source": [
    "from sklearn.preprocessing import LabelEncoder\n",
    "\n",
    "# Создаем экземпляр LabelEncoder\n",
    "le = LabelEncoder()\n",
    "\n",
    "# Fit LabelEncoder и трансформация столбца 'home.dest'\n",
    "df['home.dest'] = le.fit_transform(df['home.dest'].astype(str))\n",
    "df"
   ],
   "metadata": {
    "collapsed": false,
    "pycharm": {
     "name": "#%%\n"
    }
   }
  },
  {
   "cell_type": "code",
   "execution_count": 357,
   "outputs": [
    {
     "name": "stdout",
     "output_type": "stream",
     "text": [
      "              pclass  survived       age     sibsp     parch      fare  \\\n",
      "pclass      1.000000 -0.312469 -0.408106  0.060832  0.018322 -0.558629   \n",
      "survived   -0.312469  1.000000 -0.055513 -0.027825  0.082660  0.244265   \n",
      "age        -0.408106 -0.055513  1.000000 -0.243699 -0.150917  0.178739   \n",
      "sibsp       0.060832 -0.027825 -0.243699  1.000000  0.373587  0.160238   \n",
      "parch       0.018322  0.082660 -0.150917  0.373587  1.000000  0.221539   \n",
      "fare       -0.558629  0.244265  0.178739  0.160238  0.221539  1.000000   \n",
      "home.dest   0.413583 -0.166342 -0.130851  0.066530  0.003325 -0.093576   \n",
      "sex_female -0.124617  0.528693 -0.063646  0.109609  0.213125  0.185523   \n",
      "sex_male    0.124617 -0.528693  0.063646 -0.109609 -0.213125 -0.185523   \n",
      "embarked_C -0.269658  0.182123  0.085777 -0.048396 -0.008635  0.286269   \n",
      "embarked_Q  0.230491 -0.016071 -0.019458 -0.048678 -0.100943 -0.130059   \n",
      "embarked_S  0.096335 -0.154558 -0.075971  0.075198  0.073258 -0.172683   \n",
      "\n",
      "            home.dest  sex_female  sex_male  embarked_C  embarked_Q  \\\n",
      "pclass       0.413583   -0.124617  0.124617   -0.269658    0.230491   \n",
      "survived    -0.166342    0.528693 -0.528693    0.182123   -0.016071   \n",
      "age         -0.130851   -0.063646  0.063646    0.085777   -0.019458   \n",
      "sibsp        0.066530    0.109609 -0.109609   -0.048396   -0.048678   \n",
      "parch        0.003325    0.213125 -0.213125   -0.008635   -0.100943   \n",
      "fare        -0.093576    0.185523 -0.185523    0.286269   -0.130059   \n",
      "home.dest    1.000000   -0.035788  0.034413    0.003281    0.079384   \n",
      "sex_female  -0.035788    1.000000 -0.998337    0.066832    0.088812   \n",
      "sex_male     0.034413   -0.998337  1.000000   -0.065988   -0.088256   \n",
      "embarked_C   0.003281    0.066832 -0.065988    1.000000   -0.164018   \n",
      "embarked_Q   0.079384    0.088812 -0.088256   -0.164018    1.000000   \n",
      "embarked_S  -0.053151   -0.118511  0.120876   -0.774089   -0.489049   \n",
      "\n",
      "            embarked_S  \n",
      "pclass        0.096335  \n",
      "survived     -0.154558  \n",
      "age          -0.075971  \n",
      "sibsp         0.075198  \n",
      "parch         0.073258  \n",
      "fare         -0.172683  \n",
      "home.dest    -0.053151  \n",
      "sex_female   -0.118511  \n",
      "sex_male      0.120876  \n",
      "embarked_C   -0.774089  \n",
      "embarked_Q   -0.489049  \n",
      "embarked_S    1.000000  \n"
     ]
    }
   ],
   "source": [
    "df = df.drop(['name', 'body', 'boat', 'cabin', 'ticket'], axis=1)\n",
    "correlation_matrix = df.corr()\n",
    "print(correlation_matrix)"
   ],
   "metadata": {
    "collapsed": false,
    "pycharm": {
     "name": "#%%\n"
    }
   }
  },
  {
   "cell_type": "code",
   "execution_count": 358,
   "outputs": [
    {
     "name": "stdout",
     "output_type": "stream",
     "text": [
      "['sex_male']\n"
     ]
    }
   ],
   "source": [
    "def find_highly_correlated_features(df, threshold):\n",
    "    corr_matrix = df.corr().abs()\n",
    "    upper = corr_matrix.where(np.triu(np.ones(corr_matrix.shape), k=1).astype(bool))\n",
    "    to_drop = [column for column in upper.columns if any(upper[column] > threshold)]\n",
    "    return to_drop\n",
    "\n",
    "# использование функции\n",
    "print(find_highly_correlated_features(df, 0.8))"
   ],
   "metadata": {
    "collapsed": false,
    "pycharm": {
     "name": "#%%\n"
    }
   }
  },
  {
   "cell_type": "code",
   "execution_count": 359,
   "outputs": [
    {
     "data": {
      "text/plain": "      pclass  survived       age     sibsp     parch      fare  home.dest  \\\n0        1.0       1.0 -0.061162 -0.479087 -0.445000  3.441165        308   \n1        1.0       1.0 -2.010496  0.481288  1.866526  2.285603        230   \n2        1.0       0.0 -1.935302  0.481288  1.866526  2.285603        230   \n3        1.0       0.0  0.008251  0.481288  1.866526  2.285603        230   \n4        1.0       0.0 -0.338812  0.481288  1.866526  2.285603        230   \n...      ...       ...       ...       ...       ...       ...        ...   \n1305     3.0       0.0       NaN  0.481288 -0.445000 -0.364161        369   \n1306     3.0       0.0 -0.234693 -0.479087 -0.445000 -0.503886        369   \n1307     3.0       0.0 -0.199987 -0.479087 -0.445000 -0.503886        369   \n1308     3.0       0.0 -0.061162 -0.479087 -0.445000 -0.491323        369   \n1309     NaN       NaN       NaN       NaN       NaN       NaN        369   \n\n      sex_female  embarked_C  embarked_Q  embarked_S  \n0           True       False       False        True  \n1          False       False       False        True  \n2           True       False       False        True  \n3          False       False       False        True  \n4           True       False       False        True  \n...          ...         ...         ...         ...  \n1305        True        True       False       False  \n1306       False        True       False       False  \n1307       False        True       False       False  \n1308       False       False       False        True  \n1309       False       False       False       False  \n\n[1310 rows x 11 columns]",
      "text/html": "<div>\n<style scoped>\n    .dataframe tbody tr th:only-of-type {\n        vertical-align: middle;\n    }\n\n    .dataframe tbody tr th {\n        vertical-align: top;\n    }\n\n    .dataframe thead th {\n        text-align: right;\n    }\n</style>\n<table border=\"1\" class=\"dataframe\">\n  <thead>\n    <tr style=\"text-align: right;\">\n      <th></th>\n      <th>pclass</th>\n      <th>survived</th>\n      <th>age</th>\n      <th>sibsp</th>\n      <th>parch</th>\n      <th>fare</th>\n      <th>home.dest</th>\n      <th>sex_female</th>\n      <th>embarked_C</th>\n      <th>embarked_Q</th>\n      <th>embarked_S</th>\n    </tr>\n  </thead>\n  <tbody>\n    <tr>\n      <th>0</th>\n      <td>1.0</td>\n      <td>1.0</td>\n      <td>-0.061162</td>\n      <td>-0.479087</td>\n      <td>-0.445000</td>\n      <td>3.441165</td>\n      <td>308</td>\n      <td>True</td>\n      <td>False</td>\n      <td>False</td>\n      <td>True</td>\n    </tr>\n    <tr>\n      <th>1</th>\n      <td>1.0</td>\n      <td>1.0</td>\n      <td>-2.010496</td>\n      <td>0.481288</td>\n      <td>1.866526</td>\n      <td>2.285603</td>\n      <td>230</td>\n      <td>False</td>\n      <td>False</td>\n      <td>False</td>\n      <td>True</td>\n    </tr>\n    <tr>\n      <th>2</th>\n      <td>1.0</td>\n      <td>0.0</td>\n      <td>-1.935302</td>\n      <td>0.481288</td>\n      <td>1.866526</td>\n      <td>2.285603</td>\n      <td>230</td>\n      <td>True</td>\n      <td>False</td>\n      <td>False</td>\n      <td>True</td>\n    </tr>\n    <tr>\n      <th>3</th>\n      <td>1.0</td>\n      <td>0.0</td>\n      <td>0.008251</td>\n      <td>0.481288</td>\n      <td>1.866526</td>\n      <td>2.285603</td>\n      <td>230</td>\n      <td>False</td>\n      <td>False</td>\n      <td>False</td>\n      <td>True</td>\n    </tr>\n    <tr>\n      <th>4</th>\n      <td>1.0</td>\n      <td>0.0</td>\n      <td>-0.338812</td>\n      <td>0.481288</td>\n      <td>1.866526</td>\n      <td>2.285603</td>\n      <td>230</td>\n      <td>True</td>\n      <td>False</td>\n      <td>False</td>\n      <td>True</td>\n    </tr>\n    <tr>\n      <th>...</th>\n      <td>...</td>\n      <td>...</td>\n      <td>...</td>\n      <td>...</td>\n      <td>...</td>\n      <td>...</td>\n      <td>...</td>\n      <td>...</td>\n      <td>...</td>\n      <td>...</td>\n      <td>...</td>\n    </tr>\n    <tr>\n      <th>1305</th>\n      <td>3.0</td>\n      <td>0.0</td>\n      <td>NaN</td>\n      <td>0.481288</td>\n      <td>-0.445000</td>\n      <td>-0.364161</td>\n      <td>369</td>\n      <td>True</td>\n      <td>True</td>\n      <td>False</td>\n      <td>False</td>\n    </tr>\n    <tr>\n      <th>1306</th>\n      <td>3.0</td>\n      <td>0.0</td>\n      <td>-0.234693</td>\n      <td>-0.479087</td>\n      <td>-0.445000</td>\n      <td>-0.503886</td>\n      <td>369</td>\n      <td>False</td>\n      <td>True</td>\n      <td>False</td>\n      <td>False</td>\n    </tr>\n    <tr>\n      <th>1307</th>\n      <td>3.0</td>\n      <td>0.0</td>\n      <td>-0.199987</td>\n      <td>-0.479087</td>\n      <td>-0.445000</td>\n      <td>-0.503886</td>\n      <td>369</td>\n      <td>False</td>\n      <td>True</td>\n      <td>False</td>\n      <td>False</td>\n    </tr>\n    <tr>\n      <th>1308</th>\n      <td>3.0</td>\n      <td>0.0</td>\n      <td>-0.061162</td>\n      <td>-0.479087</td>\n      <td>-0.445000</td>\n      <td>-0.491323</td>\n      <td>369</td>\n      <td>False</td>\n      <td>False</td>\n      <td>False</td>\n      <td>True</td>\n    </tr>\n    <tr>\n      <th>1309</th>\n      <td>NaN</td>\n      <td>NaN</td>\n      <td>NaN</td>\n      <td>NaN</td>\n      <td>NaN</td>\n      <td>NaN</td>\n      <td>369</td>\n      <td>False</td>\n      <td>False</td>\n      <td>False</td>\n      <td>False</td>\n    </tr>\n  </tbody>\n</table>\n<p>1310 rows × 11 columns</p>\n</div>"
     },
     "execution_count": 359,
     "metadata": {},
     "output_type": "execute_result"
    }
   ],
   "source": [
    "df = df.drop('sex_male', axis=1)\n",
    "df"
   ],
   "metadata": {
    "collapsed": false,
    "pycharm": {
     "name": "#%%\n"
    }
   }
  },
  {
   "cell_type": "code",
   "execution_count": 360,
   "outputs": [
    {
     "name": "stdout",
     "output_type": "stream",
     "text": [
      "['pclass', 'survived', 'age', 'sibsp', 'parch', 'fare']\n"
     ]
    }
   ],
   "source": [
    "missing_columns = df.columns[df.isnull().any()].tolist()\n",
    "print(missing_columns)\n"
   ],
   "metadata": {
    "collapsed": false,
    "pycharm": {
     "name": "#%%\n"
    }
   }
  },
  {
   "cell_type": "code",
   "execution_count": 361,
   "outputs": [],
   "source": [
    "# Для столбцов 'age' и 'fare', которые являются числовыми, используем медиану:\n",
    "df['age'].fillna(df['age'].median(), inplace=True)\n",
    "df['fare'].fillna(df['fare'].median(), inplace=True)\n"
   ],
   "metadata": {
    "collapsed": false,
    "pycharm": {
     "name": "#%%\n"
    }
   }
  },
  {
   "cell_type": "code",
   "execution_count": 362,
   "outputs": [
    {
     "name": "stdout",
     "output_type": "stream",
     "text": [
      "[]\n"
     ]
    },
    {
     "data": {
      "text/plain": "      pclass  survived       age     sibsp     parch      fare  home.dest  \\\n0        1.0       1.0 -0.061162 -0.479087 -0.445000  3.441165        308   \n1        1.0       1.0 -2.010496  0.481288  1.866526  2.285603        230   \n2        1.0       0.0 -1.935302  0.481288  1.866526  2.285603        230   \n3        1.0       0.0  0.008251  0.481288  1.866526  2.285603        230   \n4        1.0       0.0 -0.338812  0.481288  1.866526  2.285603        230   \n...      ...       ...       ...       ...       ...       ...        ...   \n1305     3.0       0.0 -0.130574  0.481288 -0.445000 -0.364161        369   \n1306     3.0       0.0 -0.234693 -0.479087 -0.445000 -0.503886        369   \n1307     3.0       0.0 -0.199987 -0.479087 -0.445000 -0.503886        369   \n1308     3.0       0.0 -0.061162 -0.479087 -0.445000 -0.491323        369   \n1309     3.0       0.0 -0.130574 -0.479087 -0.445000 -0.364161        369   \n\n      sex_female  embarked_C  embarked_Q  embarked_S  \n0           True       False       False        True  \n1          False       False       False        True  \n2           True       False       False        True  \n3          False       False       False        True  \n4           True       False       False        True  \n...          ...         ...         ...         ...  \n1305        True        True       False       False  \n1306       False        True       False       False  \n1307       False        True       False       False  \n1308       False       False       False        True  \n1309       False       False       False       False  \n\n[1310 rows x 11 columns]",
      "text/html": "<div>\n<style scoped>\n    .dataframe tbody tr th:only-of-type {\n        vertical-align: middle;\n    }\n\n    .dataframe tbody tr th {\n        vertical-align: top;\n    }\n\n    .dataframe thead th {\n        text-align: right;\n    }\n</style>\n<table border=\"1\" class=\"dataframe\">\n  <thead>\n    <tr style=\"text-align: right;\">\n      <th></th>\n      <th>pclass</th>\n      <th>survived</th>\n      <th>age</th>\n      <th>sibsp</th>\n      <th>parch</th>\n      <th>fare</th>\n      <th>home.dest</th>\n      <th>sex_female</th>\n      <th>embarked_C</th>\n      <th>embarked_Q</th>\n      <th>embarked_S</th>\n    </tr>\n  </thead>\n  <tbody>\n    <tr>\n      <th>0</th>\n      <td>1.0</td>\n      <td>1.0</td>\n      <td>-0.061162</td>\n      <td>-0.479087</td>\n      <td>-0.445000</td>\n      <td>3.441165</td>\n      <td>308</td>\n      <td>True</td>\n      <td>False</td>\n      <td>False</td>\n      <td>True</td>\n    </tr>\n    <tr>\n      <th>1</th>\n      <td>1.0</td>\n      <td>1.0</td>\n      <td>-2.010496</td>\n      <td>0.481288</td>\n      <td>1.866526</td>\n      <td>2.285603</td>\n      <td>230</td>\n      <td>False</td>\n      <td>False</td>\n      <td>False</td>\n      <td>True</td>\n    </tr>\n    <tr>\n      <th>2</th>\n      <td>1.0</td>\n      <td>0.0</td>\n      <td>-1.935302</td>\n      <td>0.481288</td>\n      <td>1.866526</td>\n      <td>2.285603</td>\n      <td>230</td>\n      <td>True</td>\n      <td>False</td>\n      <td>False</td>\n      <td>True</td>\n    </tr>\n    <tr>\n      <th>3</th>\n      <td>1.0</td>\n      <td>0.0</td>\n      <td>0.008251</td>\n      <td>0.481288</td>\n      <td>1.866526</td>\n      <td>2.285603</td>\n      <td>230</td>\n      <td>False</td>\n      <td>False</td>\n      <td>False</td>\n      <td>True</td>\n    </tr>\n    <tr>\n      <th>4</th>\n      <td>1.0</td>\n      <td>0.0</td>\n      <td>-0.338812</td>\n      <td>0.481288</td>\n      <td>1.866526</td>\n      <td>2.285603</td>\n      <td>230</td>\n      <td>True</td>\n      <td>False</td>\n      <td>False</td>\n      <td>True</td>\n    </tr>\n    <tr>\n      <th>...</th>\n      <td>...</td>\n      <td>...</td>\n      <td>...</td>\n      <td>...</td>\n      <td>...</td>\n      <td>...</td>\n      <td>...</td>\n      <td>...</td>\n      <td>...</td>\n      <td>...</td>\n      <td>...</td>\n    </tr>\n    <tr>\n      <th>1305</th>\n      <td>3.0</td>\n      <td>0.0</td>\n      <td>-0.130574</td>\n      <td>0.481288</td>\n      <td>-0.445000</td>\n      <td>-0.364161</td>\n      <td>369</td>\n      <td>True</td>\n      <td>True</td>\n      <td>False</td>\n      <td>False</td>\n    </tr>\n    <tr>\n      <th>1306</th>\n      <td>3.0</td>\n      <td>0.0</td>\n      <td>-0.234693</td>\n      <td>-0.479087</td>\n      <td>-0.445000</td>\n      <td>-0.503886</td>\n      <td>369</td>\n      <td>False</td>\n      <td>True</td>\n      <td>False</td>\n      <td>False</td>\n    </tr>\n    <tr>\n      <th>1307</th>\n      <td>3.0</td>\n      <td>0.0</td>\n      <td>-0.199987</td>\n      <td>-0.479087</td>\n      <td>-0.445000</td>\n      <td>-0.503886</td>\n      <td>369</td>\n      <td>False</td>\n      <td>True</td>\n      <td>False</td>\n      <td>False</td>\n    </tr>\n    <tr>\n      <th>1308</th>\n      <td>3.0</td>\n      <td>0.0</td>\n      <td>-0.061162</td>\n      <td>-0.479087</td>\n      <td>-0.445000</td>\n      <td>-0.491323</td>\n      <td>369</td>\n      <td>False</td>\n      <td>False</td>\n      <td>False</td>\n      <td>True</td>\n    </tr>\n    <tr>\n      <th>1309</th>\n      <td>3.0</td>\n      <td>0.0</td>\n      <td>-0.130574</td>\n      <td>-0.479087</td>\n      <td>-0.445000</td>\n      <td>-0.364161</td>\n      <td>369</td>\n      <td>False</td>\n      <td>False</td>\n      <td>False</td>\n      <td>False</td>\n    </tr>\n  </tbody>\n</table>\n<p>1310 rows × 11 columns</p>\n</div>"
     },
     "execution_count": 362,
     "metadata": {},
     "output_type": "execute_result"
    }
   ],
   "source": [
    "# Для столбцов 'pclass', 'survived', 'sibsp', и 'parch', которые являются категориальными или дискретными, используем моду(наиболее частое значение):\n",
    "df['pclass'].fillna(df['pclass'].mode()[0], inplace=True)\n",
    "df['survived'].fillna(df['survived'].mode()[0], inplace=True)\n",
    "df['sibsp'].fillna(df['sibsp'].mode()[0], inplace=True)\n",
    "df['parch'].fillna(df['parch'].mode()[0], inplace=True)\n",
    "\n",
    "print(df.columns[df.isnull().any()].tolist())\n",
    "df"
   ],
   "metadata": {
    "collapsed": false,
    "pycharm": {
     "name": "#%%\n"
    }
   }
  },
  {
   "cell_type": "code",
   "execution_count": 363,
   "outputs": [
    {
     "data": {
      "text/plain": "      pclass  survived       age     sibsp     parch      fare  home.dest  \\\n0        1.0       1.0 -0.038931 -0.478862 -0.444796  3.444003        308   \n1        1.0       1.0 -2.216698  0.481795  1.867437  2.287674        230   \n2        1.0       0.0 -2.132692  0.481795  1.867437  2.287674        230   \n3        1.0       0.0  0.038615  0.481795  1.867437  2.287674        230   \n4        1.0       0.0 -0.349118  0.481795  1.867437  2.287674        230   \n...      ...       ...       ...       ...       ...       ...        ...   \n1305     3.0       0.0 -0.116478  0.481795 -0.444796 -0.363846        369   \n1306     3.0       0.0 -0.232798 -0.478862 -0.444796 -0.503663        369   \n1307     3.0       0.0 -0.194025 -0.478862 -0.444796 -0.503663        369   \n1308     3.0       0.0 -0.038931 -0.478862 -0.444796 -0.491092        369   \n1309     3.0       0.0 -0.116478 -0.478862 -0.444796 -0.363846        369   \n\n      sex_female  embarked_C  embarked_Q  embarked_S  \n0           True       False       False        True  \n1          False       False       False        True  \n2           True       False       False        True  \n3          False       False       False        True  \n4           True       False       False        True  \n...          ...         ...         ...         ...  \n1305        True        True       False       False  \n1306       False        True       False       False  \n1307       False        True       False       False  \n1308       False       False       False        True  \n1309       False       False       False       False  \n\n[1310 rows x 11 columns]",
      "text/html": "<div>\n<style scoped>\n    .dataframe tbody tr th:only-of-type {\n        vertical-align: middle;\n    }\n\n    .dataframe tbody tr th {\n        vertical-align: top;\n    }\n\n    .dataframe thead th {\n        text-align: right;\n    }\n</style>\n<table border=\"1\" class=\"dataframe\">\n  <thead>\n    <tr style=\"text-align: right;\">\n      <th></th>\n      <th>pclass</th>\n      <th>survived</th>\n      <th>age</th>\n      <th>sibsp</th>\n      <th>parch</th>\n      <th>fare</th>\n      <th>home.dest</th>\n      <th>sex_female</th>\n      <th>embarked_C</th>\n      <th>embarked_Q</th>\n      <th>embarked_S</th>\n    </tr>\n  </thead>\n  <tbody>\n    <tr>\n      <th>0</th>\n      <td>1.0</td>\n      <td>1.0</td>\n      <td>-0.038931</td>\n      <td>-0.478862</td>\n      <td>-0.444796</td>\n      <td>3.444003</td>\n      <td>308</td>\n      <td>True</td>\n      <td>False</td>\n      <td>False</td>\n      <td>True</td>\n    </tr>\n    <tr>\n      <th>1</th>\n      <td>1.0</td>\n      <td>1.0</td>\n      <td>-2.216698</td>\n      <td>0.481795</td>\n      <td>1.867437</td>\n      <td>2.287674</td>\n      <td>230</td>\n      <td>False</td>\n      <td>False</td>\n      <td>False</td>\n      <td>True</td>\n    </tr>\n    <tr>\n      <th>2</th>\n      <td>1.0</td>\n      <td>0.0</td>\n      <td>-2.132692</td>\n      <td>0.481795</td>\n      <td>1.867437</td>\n      <td>2.287674</td>\n      <td>230</td>\n      <td>True</td>\n      <td>False</td>\n      <td>False</td>\n      <td>True</td>\n    </tr>\n    <tr>\n      <th>3</th>\n      <td>1.0</td>\n      <td>0.0</td>\n      <td>0.038615</td>\n      <td>0.481795</td>\n      <td>1.867437</td>\n      <td>2.287674</td>\n      <td>230</td>\n      <td>False</td>\n      <td>False</td>\n      <td>False</td>\n      <td>True</td>\n    </tr>\n    <tr>\n      <th>4</th>\n      <td>1.0</td>\n      <td>0.0</td>\n      <td>-0.349118</td>\n      <td>0.481795</td>\n      <td>1.867437</td>\n      <td>2.287674</td>\n      <td>230</td>\n      <td>True</td>\n      <td>False</td>\n      <td>False</td>\n      <td>True</td>\n    </tr>\n    <tr>\n      <th>...</th>\n      <td>...</td>\n      <td>...</td>\n      <td>...</td>\n      <td>...</td>\n      <td>...</td>\n      <td>...</td>\n      <td>...</td>\n      <td>...</td>\n      <td>...</td>\n      <td>...</td>\n      <td>...</td>\n    </tr>\n    <tr>\n      <th>1305</th>\n      <td>3.0</td>\n      <td>0.0</td>\n      <td>-0.116478</td>\n      <td>0.481795</td>\n      <td>-0.444796</td>\n      <td>-0.363846</td>\n      <td>369</td>\n      <td>True</td>\n      <td>True</td>\n      <td>False</td>\n      <td>False</td>\n    </tr>\n    <tr>\n      <th>1306</th>\n      <td>3.0</td>\n      <td>0.0</td>\n      <td>-0.232798</td>\n      <td>-0.478862</td>\n      <td>-0.444796</td>\n      <td>-0.503663</td>\n      <td>369</td>\n      <td>False</td>\n      <td>True</td>\n      <td>False</td>\n      <td>False</td>\n    </tr>\n    <tr>\n      <th>1307</th>\n      <td>3.0</td>\n      <td>0.0</td>\n      <td>-0.194025</td>\n      <td>-0.478862</td>\n      <td>-0.444796</td>\n      <td>-0.503663</td>\n      <td>369</td>\n      <td>False</td>\n      <td>True</td>\n      <td>False</td>\n      <td>False</td>\n    </tr>\n    <tr>\n      <th>1308</th>\n      <td>3.0</td>\n      <td>0.0</td>\n      <td>-0.038931</td>\n      <td>-0.478862</td>\n      <td>-0.444796</td>\n      <td>-0.491092</td>\n      <td>369</td>\n      <td>False</td>\n      <td>False</td>\n      <td>False</td>\n      <td>True</td>\n    </tr>\n    <tr>\n      <th>1309</th>\n      <td>3.0</td>\n      <td>0.0</td>\n      <td>-0.116478</td>\n      <td>-0.478862</td>\n      <td>-0.444796</td>\n      <td>-0.363846</td>\n      <td>369</td>\n      <td>False</td>\n      <td>False</td>\n      <td>False</td>\n      <td>False</td>\n    </tr>\n  </tbody>\n</table>\n<p>1310 rows × 11 columns</p>\n</div>"
     },
     "execution_count": 363,
     "metadata": {},
     "output_type": "execute_result"
    }
   ],
   "source": [
    "df[['age', 'sibsp', 'parch', 'fare']] = scaler.fit_transform(df[['age', 'sibsp', 'parch', 'fare']])\n",
    "df"
   ],
   "metadata": {
    "collapsed": false,
    "pycharm": {
     "name": "#%%\n"
    }
   }
  },
  {
   "cell_type": "code",
   "execution_count": 364,
   "outputs": [],
   "source": [
    "# 6 пункт"
   ],
   "metadata": {
    "collapsed": false,
    "pycharm": {
     "name": "#%%\n"
    }
   }
  },
  {
   "cell_type": "code",
   "execution_count": 365,
   "outputs": [],
   "source": [
    "# подготовка данных\n",
    "\n",
    "from sklearn.model_selection import train_test_split\n",
    "from sklearn.preprocessing import label_binarize\n",
    "\n",
    "# Замените df, 'feature', и 'target' на ваши данные\n",
    "X = df.drop('pclass', axis=1)\n",
    "y = df['pclass']\n",
    "\n",
    "# Если у вас более двух классов, преобразуйте y в бинарный формат\n",
    "# y = label_binarize(y, classes=np.unique(y))\n",
    "\n",
    "# Разделите данные на обучающую и тестовую выборки\n",
    "X_train, X_test, y_train, y_test = train_test_split(X, y, test_size=0.2, random_state=42)"
   ],
   "metadata": {
    "collapsed": false,
    "pycharm": {
     "name": "#%%\n"
    }
   }
  },
  {
   "cell_type": "code",
   "execution_count": 366,
   "outputs": [
    {
     "name": "stdout",
     "output_type": "stream",
     "text": [
      "Best parameters for KNN:  {'n_neighbors': 1}\n"
     ]
    }
   ],
   "source": [
    "# KNN\n",
    "from sklearn.neighbors import KNeighborsClassifier\n",
    "from sklearn.model_selection import GridSearchCV\n",
    "\n",
    "# Создайте экземпляр классификатора\n",
    "knn = KNeighborsClassifier()\n",
    "\n",
    "# Определите параметры для поиска\n",
    "param_grid_knn = {'n_neighbors': list(range(1, 31))}\n",
    "\n",
    "# Создайте экземпляр GridSearchCV\n",
    "grid_search_knn = GridSearchCV(knn, param_grid_knn, cv=5)\n",
    "\n",
    "# Обучите модель\n",
    "grid_search_knn.fit(X_train, y_train)\n",
    "\n",
    "# Выведите наилучшие параметры\n",
    "print(\"Best parameters for KNN: \", grid_search_knn.best_params_)"
   ],
   "metadata": {
    "collapsed": false,
    "pycharm": {
     "name": "#%%\n"
    }
   }
  },
  {
   "cell_type": "code",
   "execution_count": 367,
   "outputs": [
    {
     "name": "stdout",
     "output_type": "stream",
     "text": [
      "Best parameters for Perceptron:  {'alpha': 0.0001}\n"
     ]
    }
   ],
   "source": [
    "# perceptron\n",
    "from sklearn.linear_model import Perceptron\n",
    "\n",
    "# Создайте экземпляр классификатора\n",
    "perceptron = Perceptron()\n",
    "\n",
    "# Определите параметры для поиска\n",
    "param_grid_perceptron = {'alpha': [0.0001, 0.001, 0.01, 0.1, 1, 10, 100]}\n",
    "\n",
    "# Создайте экземпляр GridSearchCV\n",
    "grid_search_perceptron = GridSearchCV(perceptron, param_grid_perceptron, cv=5)\n",
    "\n",
    "# Обучите модель\n",
    "grid_search_perceptron.fit(X_train, y_train)\n",
    "\n",
    "# Выведите наилучшие параметры\n",
    "print(\"Best parameters for Perceptron: \", grid_search_perceptron.best_params_)"
   ],
   "metadata": {
    "collapsed": false,
    "pycharm": {
     "name": "#%%\n"
    }
   }
  },
  {
   "cell_type": "code",
   "execution_count": 368,
   "outputs": [
    {
     "data": {
      "text/plain": "OneVsOneClassifier(estimator=Perceptron())",
      "text/html": "<style>#sk-container-id-13 {color: black;}#sk-container-id-13 pre{padding: 0;}#sk-container-id-13 div.sk-toggleable {background-color: white;}#sk-container-id-13 label.sk-toggleable__label {cursor: pointer;display: block;width: 100%;margin-bottom: 0;padding: 0.3em;box-sizing: border-box;text-align: center;}#sk-container-id-13 label.sk-toggleable__label-arrow:before {content: \"▸\";float: left;margin-right: 0.25em;color: #696969;}#sk-container-id-13 label.sk-toggleable__label-arrow:hover:before {color: black;}#sk-container-id-13 div.sk-estimator:hover label.sk-toggleable__label-arrow:before {color: black;}#sk-container-id-13 div.sk-toggleable__content {max-height: 0;max-width: 0;overflow: hidden;text-align: left;background-color: #f0f8ff;}#sk-container-id-13 div.sk-toggleable__content pre {margin: 0.2em;color: black;border-radius: 0.25em;background-color: #f0f8ff;}#sk-container-id-13 input.sk-toggleable__control:checked~div.sk-toggleable__content {max-height: 200px;max-width: 100%;overflow: auto;}#sk-container-id-13 input.sk-toggleable__control:checked~label.sk-toggleable__label-arrow:before {content: \"▾\";}#sk-container-id-13 div.sk-estimator input.sk-toggleable__control:checked~label.sk-toggleable__label {background-color: #d4ebff;}#sk-container-id-13 div.sk-label input.sk-toggleable__control:checked~label.sk-toggleable__label {background-color: #d4ebff;}#sk-container-id-13 input.sk-hidden--visually {border: 0;clip: rect(1px 1px 1px 1px);clip: rect(1px, 1px, 1px, 1px);height: 1px;margin: -1px;overflow: hidden;padding: 0;position: absolute;width: 1px;}#sk-container-id-13 div.sk-estimator {font-family: monospace;background-color: #f0f8ff;border: 1px dotted black;border-radius: 0.25em;box-sizing: border-box;margin-bottom: 0.5em;}#sk-container-id-13 div.sk-estimator:hover {background-color: #d4ebff;}#sk-container-id-13 div.sk-parallel-item::after {content: \"\";width: 100%;border-bottom: 1px solid gray;flex-grow: 1;}#sk-container-id-13 div.sk-label:hover label.sk-toggleable__label {background-color: #d4ebff;}#sk-container-id-13 div.sk-serial::before {content: \"\";position: absolute;border-left: 1px solid gray;box-sizing: border-box;top: 0;bottom: 0;left: 50%;z-index: 0;}#sk-container-id-13 div.sk-serial {display: flex;flex-direction: column;align-items: center;background-color: white;padding-right: 0.2em;padding-left: 0.2em;position: relative;}#sk-container-id-13 div.sk-item {position: relative;z-index: 1;}#sk-container-id-13 div.sk-parallel {display: flex;align-items: stretch;justify-content: center;background-color: white;position: relative;}#sk-container-id-13 div.sk-item::before, #sk-container-id-13 div.sk-parallel-item::before {content: \"\";position: absolute;border-left: 1px solid gray;box-sizing: border-box;top: 0;bottom: 0;left: 50%;z-index: -1;}#sk-container-id-13 div.sk-parallel-item {display: flex;flex-direction: column;z-index: 1;position: relative;background-color: white;}#sk-container-id-13 div.sk-parallel-item:first-child::after {align-self: flex-end;width: 50%;}#sk-container-id-13 div.sk-parallel-item:last-child::after {align-self: flex-start;width: 50%;}#sk-container-id-13 div.sk-parallel-item:only-child::after {width: 0;}#sk-container-id-13 div.sk-dashed-wrapped {border: 1px dashed gray;margin: 0 0.4em 0.5em 0.4em;box-sizing: border-box;padding-bottom: 0.4em;background-color: white;}#sk-container-id-13 div.sk-label label {font-family: monospace;font-weight: bold;display: inline-block;line-height: 1.2em;}#sk-container-id-13 div.sk-label-container {text-align: center;}#sk-container-id-13 div.sk-container {/* jupyter's `normalize.less` sets `[hidden] { display: none; }` but bootstrap.min.css set `[hidden] { display: none !important; }` so we also need the `!important` here to be able to override the default hidden behavior on the sphinx rendered scikit-learn.org. See: https://github.com/scikit-learn/scikit-learn/issues/21755 */display: inline-block !important;position: relative;}#sk-container-id-13 div.sk-text-repr-fallback {display: none;}</style><div id=\"sk-container-id-13\" class=\"sk-top-container\"><div class=\"sk-text-repr-fallback\"><pre>OneVsOneClassifier(estimator=Perceptron())</pre><b>In a Jupyter environment, please rerun this cell to show the HTML representation or trust the notebook. <br />On GitHub, the HTML representation is unable to render, please try loading this page with nbviewer.org.</b></div><div class=\"sk-container\" hidden><div class=\"sk-item sk-dashed-wrapped\"><div class=\"sk-label-container\"><div class=\"sk-label sk-toggleable\"><input class=\"sk-toggleable__control sk-hidden--visually\" id=\"sk-estimator-id-37\" type=\"checkbox\" ><label for=\"sk-estimator-id-37\" class=\"sk-toggleable__label sk-toggleable__label-arrow\">OneVsOneClassifier</label><div class=\"sk-toggleable__content\"><pre>OneVsOneClassifier(estimator=Perceptron())</pre></div></div></div><div class=\"sk-parallel\"><div class=\"sk-parallel-item\"><div class=\"sk-item\"><div class=\"sk-label-container\"><div class=\"sk-label sk-toggleable\"><input class=\"sk-toggleable__control sk-hidden--visually\" id=\"sk-estimator-id-38\" type=\"checkbox\" ><label for=\"sk-estimator-id-38\" class=\"sk-toggleable__label sk-toggleable__label-arrow\">estimator: Perceptron</label><div class=\"sk-toggleable__content\"><pre>Perceptron()</pre></div></div></div><div class=\"sk-serial\"><div class=\"sk-item\"><div class=\"sk-estimator sk-toggleable\"><input class=\"sk-toggleable__control sk-hidden--visually\" id=\"sk-estimator-id-39\" type=\"checkbox\" ><label for=\"sk-estimator-id-39\" class=\"sk-toggleable__label sk-toggleable__label-arrow\">Perceptron</label><div class=\"sk-toggleable__content\"><pre>Perceptron()</pre></div></div></div></div></div></div></div></div></div></div>"
     },
     "execution_count": 368,
     "metadata": {},
     "output_type": "execute_result"
    }
   ],
   "source": [
    "from sklearn.multiclass import OneVsRestClassifier, OneVsOneClassifier\n",
    "# One-vs-Rest\n",
    "ovr_knn = OneVsRestClassifier(knn)\n",
    "ovr_knn.fit(X_train, y_train)\n",
    "\n",
    "ovr_perceptron = OneVsRestClassifier(perceptron)\n",
    "ovr_perceptron.fit(X_train, y_train)\n",
    "\n",
    "# One-vs-One\n",
    "ovo_knn = OneVsOneClassifier(knn)\n",
    "ovo_knn.fit(X_train, y_train)\n",
    "\n",
    "ovo_perceptron = OneVsOneClassifier(perceptron)\n",
    "ovo_perceptron.fit(X_train, y_train)"
   ],
   "metadata": {
    "collapsed": false,
    "pycharm": {
     "name": "#%%\n"
    }
   }
  },
  {
   "cell_type": "code",
   "execution_count": 369,
   "outputs": [
    {
     "name": "stdout",
     "output_type": "stream",
     "text": [
      "Accuracy for One-vs-Rest KNN:  0.7938931297709924\n",
      "Accuracy for One-vs-Rest Perceptron:  0.5725190839694656\n",
      "Accuracy for One-vs-One KNN:  0.8053435114503816\n",
      "Accuracy for One-vs-One Perceptron:  0.6717557251908397\n"
     ]
    }
   ],
   "source": [
    "# оценка точности классификации\n",
    "from sklearn.metrics import accuracy_score\n",
    "\n",
    "# Для One-vs-Rest\n",
    "y_pred_ovr_knn = ovr_knn.predict(X_test)\n",
    "print(\"Accuracy for One-vs-Rest KNN: \", accuracy_score(y_test, y_pred_ovr_knn))\n",
    "\n",
    "y_pred_ovr_perceptron = ovr_perceptron.predict(X_test)\n",
    "print(\"Accuracy for One-vs-Rest Perceptron: \", accuracy_score(y_test, y_pred_ovr_perceptron))\n",
    "\n",
    "# Для One-vs-One\n",
    "y_pred_ovo_knn = ovo_knn.predict(X_test)\n",
    "print(\"Accuracy for One-vs-One KNN: \", accuracy_score(y_test, y_pred_ovo_knn))\n",
    "\n",
    "y_pred_ovo_perceptron = ovo_perceptron.predict(X_test)\n",
    "print(\"Accuracy for One-vs-One Perceptron: \", accuracy_score(y_test, y_pred_ovo_perceptron))"
   ],
   "metadata": {
    "collapsed": false,
    "pycharm": {
     "name": "#%%\n"
    }
   }
  },
  {
   "cell_type": "code",
   "execution_count": 370,
   "outputs": [
    {
     "name": "stdout",
     "output_type": "stream",
     "text": [
      "3\n"
     ]
    },
    {
     "ename": "ValueError",
     "evalue": "multiclass format is not supported",
     "output_type": "error",
     "traceback": [
      "\u001B[1;31m---------------------------------------------------------------------------\u001B[0m",
      "\u001B[1;31mValueError\u001B[0m                                Traceback (most recent call last)",
      "Cell \u001B[1;32mIn[370], line 11\u001B[0m\n\u001B[0;32m      8\u001B[0m \u001B[38;5;66;03m# Для каждого класса\u001B[39;00m\n\u001B[0;32m      9\u001B[0m \u001B[38;5;28;01mfor\u001B[39;00m i \u001B[38;5;129;01min\u001B[39;00m \u001B[38;5;28mrange\u001B[39m(n_classes):\n\u001B[0;32m     10\u001B[0m     \u001B[38;5;66;03m# ROC curve\u001B[39;00m\n\u001B[1;32m---> 11\u001B[0m     fpr, tpr, _ \u001B[38;5;241m=\u001B[39m \u001B[43mroc_curve\u001B[49m\u001B[43m(\u001B[49m\u001B[43my_test\u001B[49m\u001B[43m,\u001B[49m\u001B[43m \u001B[49m\u001B[43my_pred_ovo_knn\u001B[49m\u001B[43m)\u001B[49m\n\u001B[0;32m     12\u001B[0m     roc_auc \u001B[38;5;241m=\u001B[39m auc(fpr, tpr)\n\u001B[0;32m     13\u001B[0m     plt\u001B[38;5;241m.\u001B[39mfigure()\n",
      "File \u001B[1;32m~\\AppData\\Local\\pypoetry\\Cache\\virtualenvs\\machinelearning-Uve55_Wm-py3.11\\Lib\\site-packages\\sklearn\\utils\\_param_validation.py:214\u001B[0m, in \u001B[0;36mvalidate_params.<locals>.decorator.<locals>.wrapper\u001B[1;34m(*args, **kwargs)\u001B[0m\n\u001B[0;32m    208\u001B[0m \u001B[38;5;28;01mtry\u001B[39;00m:\n\u001B[0;32m    209\u001B[0m     \u001B[38;5;28;01mwith\u001B[39;00m config_context(\n\u001B[0;32m    210\u001B[0m         skip_parameter_validation\u001B[38;5;241m=\u001B[39m(\n\u001B[0;32m    211\u001B[0m             prefer_skip_nested_validation \u001B[38;5;129;01mor\u001B[39;00m global_skip_validation\n\u001B[0;32m    212\u001B[0m         )\n\u001B[0;32m    213\u001B[0m     ):\n\u001B[1;32m--> 214\u001B[0m         \u001B[38;5;28;01mreturn\u001B[39;00m \u001B[43mfunc\u001B[49m\u001B[43m(\u001B[49m\u001B[38;5;241;43m*\u001B[39;49m\u001B[43margs\u001B[49m\u001B[43m,\u001B[49m\u001B[43m \u001B[49m\u001B[38;5;241;43m*\u001B[39;49m\u001B[38;5;241;43m*\u001B[39;49m\u001B[43mkwargs\u001B[49m\u001B[43m)\u001B[49m\n\u001B[0;32m    215\u001B[0m \u001B[38;5;28;01mexcept\u001B[39;00m InvalidParameterError \u001B[38;5;28;01mas\u001B[39;00m e:\n\u001B[0;32m    216\u001B[0m     \u001B[38;5;66;03m# When the function is just a wrapper around an estimator, we allow\u001B[39;00m\n\u001B[0;32m    217\u001B[0m     \u001B[38;5;66;03m# the function to delegate validation to the estimator, but we replace\u001B[39;00m\n\u001B[0;32m    218\u001B[0m     \u001B[38;5;66;03m# the name of the estimator by the name of the function in the error\u001B[39;00m\n\u001B[0;32m    219\u001B[0m     \u001B[38;5;66;03m# message to avoid confusion.\u001B[39;00m\n\u001B[0;32m    220\u001B[0m     msg \u001B[38;5;241m=\u001B[39m re\u001B[38;5;241m.\u001B[39msub(\n\u001B[0;32m    221\u001B[0m         \u001B[38;5;124mr\u001B[39m\u001B[38;5;124m\"\u001B[39m\u001B[38;5;124mparameter of \u001B[39m\u001B[38;5;124m\\\u001B[39m\u001B[38;5;124mw+ must be\u001B[39m\u001B[38;5;124m\"\u001B[39m,\n\u001B[0;32m    222\u001B[0m         \u001B[38;5;124mf\u001B[39m\u001B[38;5;124m\"\u001B[39m\u001B[38;5;124mparameter of \u001B[39m\u001B[38;5;132;01m{\u001B[39;00mfunc\u001B[38;5;241m.\u001B[39m\u001B[38;5;18m__qualname__\u001B[39m\u001B[38;5;132;01m}\u001B[39;00m\u001B[38;5;124m must be\u001B[39m\u001B[38;5;124m\"\u001B[39m,\n\u001B[0;32m    223\u001B[0m         \u001B[38;5;28mstr\u001B[39m(e),\n\u001B[0;32m    224\u001B[0m     )\n",
      "File \u001B[1;32m~\\AppData\\Local\\pypoetry\\Cache\\virtualenvs\\machinelearning-Uve55_Wm-py3.11\\Lib\\site-packages\\sklearn\\metrics\\_ranking.py:1095\u001B[0m, in \u001B[0;36mroc_curve\u001B[1;34m(y_true, y_score, pos_label, sample_weight, drop_intermediate)\u001B[0m\n\u001B[0;32m    993\u001B[0m \u001B[38;5;129m@validate_params\u001B[39m(\n\u001B[0;32m    994\u001B[0m     {\n\u001B[0;32m    995\u001B[0m         \u001B[38;5;124m\"\u001B[39m\u001B[38;5;124my_true\u001B[39m\u001B[38;5;124m\"\u001B[39m: [\u001B[38;5;124m\"\u001B[39m\u001B[38;5;124marray-like\u001B[39m\u001B[38;5;124m\"\u001B[39m],\n\u001B[1;32m   (...)\u001B[0m\n\u001B[0;32m   1004\u001B[0m     y_true, y_score, \u001B[38;5;241m*\u001B[39m, pos_label\u001B[38;5;241m=\u001B[39m\u001B[38;5;28;01mNone\u001B[39;00m, sample_weight\u001B[38;5;241m=\u001B[39m\u001B[38;5;28;01mNone\u001B[39;00m, drop_intermediate\u001B[38;5;241m=\u001B[39m\u001B[38;5;28;01mTrue\u001B[39;00m\n\u001B[0;32m   1005\u001B[0m ):\n\u001B[0;32m   1006\u001B[0m \u001B[38;5;250m    \u001B[39m\u001B[38;5;124;03m\"\"\"Compute Receiver operating characteristic (ROC).\u001B[39;00m\n\u001B[0;32m   1007\u001B[0m \n\u001B[0;32m   1008\u001B[0m \u001B[38;5;124;03m    Note: this implementation is restricted to the binary classification task.\u001B[39;00m\n\u001B[1;32m   (...)\u001B[0m\n\u001B[0;32m   1093\u001B[0m \u001B[38;5;124;03m    array([ inf, 0.8 , 0.4 , 0.35, 0.1 ])\u001B[39;00m\n\u001B[0;32m   1094\u001B[0m \u001B[38;5;124;03m    \"\"\"\u001B[39;00m\n\u001B[1;32m-> 1095\u001B[0m     fps, tps, thresholds \u001B[38;5;241m=\u001B[39m \u001B[43m_binary_clf_curve\u001B[49m\u001B[43m(\u001B[49m\n\u001B[0;32m   1096\u001B[0m \u001B[43m        \u001B[49m\u001B[43my_true\u001B[49m\u001B[43m,\u001B[49m\u001B[43m \u001B[49m\u001B[43my_score\u001B[49m\u001B[43m,\u001B[49m\u001B[43m \u001B[49m\u001B[43mpos_label\u001B[49m\u001B[38;5;241;43m=\u001B[39;49m\u001B[43mpos_label\u001B[49m\u001B[43m,\u001B[49m\u001B[43m \u001B[49m\u001B[43msample_weight\u001B[49m\u001B[38;5;241;43m=\u001B[39;49m\u001B[43msample_weight\u001B[49m\n\u001B[0;32m   1097\u001B[0m \u001B[43m    \u001B[49m\u001B[43m)\u001B[49m\n\u001B[0;32m   1099\u001B[0m     \u001B[38;5;66;03m# Attempt to drop thresholds corresponding to points in between and\u001B[39;00m\n\u001B[0;32m   1100\u001B[0m     \u001B[38;5;66;03m# collinear with other points. These are always suboptimal and do not\u001B[39;00m\n\u001B[0;32m   1101\u001B[0m     \u001B[38;5;66;03m# appear on a plotted ROC curve (and thus do not affect the AUC).\u001B[39;00m\n\u001B[1;32m   (...)\u001B[0m\n\u001B[0;32m   1106\u001B[0m     \u001B[38;5;66;03m# but does not drop more complicated cases like fps = [1, 3, 7],\u001B[39;00m\n\u001B[0;32m   1107\u001B[0m     \u001B[38;5;66;03m# tps = [1, 2, 4]; there is no harm in keeping too many thresholds.\u001B[39;00m\n\u001B[0;32m   1108\u001B[0m     \u001B[38;5;28;01mif\u001B[39;00m drop_intermediate \u001B[38;5;129;01mand\u001B[39;00m \u001B[38;5;28mlen\u001B[39m(fps) \u001B[38;5;241m>\u001B[39m \u001B[38;5;241m2\u001B[39m:\n",
      "File \u001B[1;32m~\\AppData\\Local\\pypoetry\\Cache\\virtualenvs\\machinelearning-Uve55_Wm-py3.11\\Lib\\site-packages\\sklearn\\metrics\\_ranking.py:804\u001B[0m, in \u001B[0;36m_binary_clf_curve\u001B[1;34m(y_true, y_score, pos_label, sample_weight)\u001B[0m\n\u001B[0;32m    802\u001B[0m y_type \u001B[38;5;241m=\u001B[39m type_of_target(y_true, input_name\u001B[38;5;241m=\u001B[39m\u001B[38;5;124m\"\u001B[39m\u001B[38;5;124my_true\u001B[39m\u001B[38;5;124m\"\u001B[39m)\n\u001B[0;32m    803\u001B[0m \u001B[38;5;28;01mif\u001B[39;00m \u001B[38;5;129;01mnot\u001B[39;00m (y_type \u001B[38;5;241m==\u001B[39m \u001B[38;5;124m\"\u001B[39m\u001B[38;5;124mbinary\u001B[39m\u001B[38;5;124m\"\u001B[39m \u001B[38;5;129;01mor\u001B[39;00m (y_type \u001B[38;5;241m==\u001B[39m \u001B[38;5;124m\"\u001B[39m\u001B[38;5;124mmulticlass\u001B[39m\u001B[38;5;124m\"\u001B[39m \u001B[38;5;129;01mand\u001B[39;00m pos_label \u001B[38;5;129;01mis\u001B[39;00m \u001B[38;5;129;01mnot\u001B[39;00m \u001B[38;5;28;01mNone\u001B[39;00m)):\n\u001B[1;32m--> 804\u001B[0m     \u001B[38;5;28;01mraise\u001B[39;00m \u001B[38;5;167;01mValueError\u001B[39;00m(\u001B[38;5;124m\"\u001B[39m\u001B[38;5;132;01m{0}\u001B[39;00m\u001B[38;5;124m format is not supported\u001B[39m\u001B[38;5;124m\"\u001B[39m\u001B[38;5;241m.\u001B[39mformat(y_type))\n\u001B[0;32m    806\u001B[0m check_consistent_length(y_true, y_score, sample_weight)\n\u001B[0;32m    807\u001B[0m y_true \u001B[38;5;241m=\u001B[39m column_or_1d(y_true)\n",
      "\u001B[1;31mValueError\u001B[0m: multiclass format is not supported"
     ]
    }
   ],
   "source": [
    "# Построение кривых PR и ROC\n",
    "from sklearn.metrics import roc_curve, auc, precision_recall_curve\n",
    "import matplotlib.pyplot as plt\n",
    "\n",
    "n_classes = len(y.unique())\n",
    "print(n_classes)\n",
    "\n",
    "# Для каждого класса\n",
    "for i in range(n_classes):\n",
    "    # ROC curve\n",
    "    fpr, tpr, _ = roc_curve(y_test, y_pred_ovo_knn)\n",
    "    roc_auc = auc(fpr, tpr)\n",
    "    plt.figure()\n",
    "    plt.plot(fpr, tpr, label='ROC curve (area = %0.2f)' % roc_auc)\n",
    "    plt.plot([0, 1], [0, 1], 'k--')\n",
    "    plt.xlim([0.0, 1.0])\n",
    "    plt.ylim([0.0, 1.05])\n",
    "    plt.xlabel('False Positive Rate')\n",
    "    plt.ylabel('True Positive Rate')\n",
    "    plt.title('Receiver Operating Characteristic for class %d' % i)\n",
    "    plt.legend(loc=\"lower right\")\n",
    "    plt.show()\n",
    "\n",
    "    # PR curve\n",
    "    precision, recall, _ = precision_recall_curve(y_test, y_pred_ovo_knn)\n",
    "    plt.figure()\n",
    "    plt.plot(recall, precision, label='PR curve')\n",
    "    plt.xlim([0.0, 1.0])\n",
    "    plt.ylim([0.0, 1.05])\n",
    "    plt.xlabel('Recall')\n",
    "    plt.ylabel('Precision')\n",
    "    plt.title('Precision-Recall curve for class %d' % i)\n",
    "    plt.legend(loc=\"lower right\")\n",
    "    plt.show()"
   ],
   "metadata": {
    "collapsed": false,
    "pycharm": {
     "name": "#%%\n"
    }
   }
  },
  {
   "cell_type": "code",
   "execution_count": 372,
   "outputs": [
    {
     "ename": "ValueError",
     "evalue": "multilabel-indicator format is not supported",
     "output_type": "error",
     "traceback": [
      "\u001B[1;31m---------------------------------------------------------------------------\u001B[0m",
      "\u001B[1;31mValueError\u001B[0m                                Traceback (most recent call last)",
      "Cell \u001B[1;32mIn[372], line 14\u001B[0m\n\u001B[0;32m     11\u001B[0m roc_auc \u001B[38;5;241m=\u001B[39m \u001B[38;5;28mdict\u001B[39m()\n\u001B[0;32m     13\u001B[0m \u001B[38;5;28;01mfor\u001B[39;00m i \u001B[38;5;129;01min\u001B[39;00m \u001B[38;5;28mrange\u001B[39m(n_classes):\n\u001B[1;32m---> 14\u001B[0m     fpr[i], tpr[i], _ \u001B[38;5;241m=\u001B[39m \u001B[43mroc_curve\u001B[49m\u001B[43m(\u001B[49m\u001B[43my\u001B[49m\u001B[43m,\u001B[49m\u001B[43m \u001B[49m\u001B[43my_pred_ovo_knn\u001B[49m\u001B[43m)\u001B[49m\n\u001B[0;32m     15\u001B[0m     roc_auc[i] \u001B[38;5;241m=\u001B[39m auc(fpr[i], tpr[i])\n\u001B[0;32m     17\u001B[0m \u001B[38;5;66;03m# Plot of a ROC curve for a specific class\u001B[39;00m\n",
      "File \u001B[1;32m~\\AppData\\Local\\pypoetry\\Cache\\virtualenvs\\machinelearning-Uve55_Wm-py3.11\\Lib\\site-packages\\sklearn\\utils\\_param_validation.py:214\u001B[0m, in \u001B[0;36mvalidate_params.<locals>.decorator.<locals>.wrapper\u001B[1;34m(*args, **kwargs)\u001B[0m\n\u001B[0;32m    208\u001B[0m \u001B[38;5;28;01mtry\u001B[39;00m:\n\u001B[0;32m    209\u001B[0m     \u001B[38;5;28;01mwith\u001B[39;00m config_context(\n\u001B[0;32m    210\u001B[0m         skip_parameter_validation\u001B[38;5;241m=\u001B[39m(\n\u001B[0;32m    211\u001B[0m             prefer_skip_nested_validation \u001B[38;5;129;01mor\u001B[39;00m global_skip_validation\n\u001B[0;32m    212\u001B[0m         )\n\u001B[0;32m    213\u001B[0m     ):\n\u001B[1;32m--> 214\u001B[0m         \u001B[38;5;28;01mreturn\u001B[39;00m \u001B[43mfunc\u001B[49m\u001B[43m(\u001B[49m\u001B[38;5;241;43m*\u001B[39;49m\u001B[43margs\u001B[49m\u001B[43m,\u001B[49m\u001B[43m \u001B[49m\u001B[38;5;241;43m*\u001B[39;49m\u001B[38;5;241;43m*\u001B[39;49m\u001B[43mkwargs\u001B[49m\u001B[43m)\u001B[49m\n\u001B[0;32m    215\u001B[0m \u001B[38;5;28;01mexcept\u001B[39;00m InvalidParameterError \u001B[38;5;28;01mas\u001B[39;00m e:\n\u001B[0;32m    216\u001B[0m     \u001B[38;5;66;03m# When the function is just a wrapper around an estimator, we allow\u001B[39;00m\n\u001B[0;32m    217\u001B[0m     \u001B[38;5;66;03m# the function to delegate validation to the estimator, but we replace\u001B[39;00m\n\u001B[0;32m    218\u001B[0m     \u001B[38;5;66;03m# the name of the estimator by the name of the function in the error\u001B[39;00m\n\u001B[0;32m    219\u001B[0m     \u001B[38;5;66;03m# message to avoid confusion.\u001B[39;00m\n\u001B[0;32m    220\u001B[0m     msg \u001B[38;5;241m=\u001B[39m re\u001B[38;5;241m.\u001B[39msub(\n\u001B[0;32m    221\u001B[0m         \u001B[38;5;124mr\u001B[39m\u001B[38;5;124m\"\u001B[39m\u001B[38;5;124mparameter of \u001B[39m\u001B[38;5;124m\\\u001B[39m\u001B[38;5;124mw+ must be\u001B[39m\u001B[38;5;124m\"\u001B[39m,\n\u001B[0;32m    222\u001B[0m         \u001B[38;5;124mf\u001B[39m\u001B[38;5;124m\"\u001B[39m\u001B[38;5;124mparameter of \u001B[39m\u001B[38;5;132;01m{\u001B[39;00mfunc\u001B[38;5;241m.\u001B[39m\u001B[38;5;18m__qualname__\u001B[39m\u001B[38;5;132;01m}\u001B[39;00m\u001B[38;5;124m must be\u001B[39m\u001B[38;5;124m\"\u001B[39m,\n\u001B[0;32m    223\u001B[0m         \u001B[38;5;28mstr\u001B[39m(e),\n\u001B[0;32m    224\u001B[0m     )\n",
      "File \u001B[1;32m~\\AppData\\Local\\pypoetry\\Cache\\virtualenvs\\machinelearning-Uve55_Wm-py3.11\\Lib\\site-packages\\sklearn\\metrics\\_ranking.py:1095\u001B[0m, in \u001B[0;36mroc_curve\u001B[1;34m(y_true, y_score, pos_label, sample_weight, drop_intermediate)\u001B[0m\n\u001B[0;32m    993\u001B[0m \u001B[38;5;129m@validate_params\u001B[39m(\n\u001B[0;32m    994\u001B[0m     {\n\u001B[0;32m    995\u001B[0m         \u001B[38;5;124m\"\u001B[39m\u001B[38;5;124my_true\u001B[39m\u001B[38;5;124m\"\u001B[39m: [\u001B[38;5;124m\"\u001B[39m\u001B[38;5;124marray-like\u001B[39m\u001B[38;5;124m\"\u001B[39m],\n\u001B[1;32m   (...)\u001B[0m\n\u001B[0;32m   1004\u001B[0m     y_true, y_score, \u001B[38;5;241m*\u001B[39m, pos_label\u001B[38;5;241m=\u001B[39m\u001B[38;5;28;01mNone\u001B[39;00m, sample_weight\u001B[38;5;241m=\u001B[39m\u001B[38;5;28;01mNone\u001B[39;00m, drop_intermediate\u001B[38;5;241m=\u001B[39m\u001B[38;5;28;01mTrue\u001B[39;00m\n\u001B[0;32m   1005\u001B[0m ):\n\u001B[0;32m   1006\u001B[0m \u001B[38;5;250m    \u001B[39m\u001B[38;5;124;03m\"\"\"Compute Receiver operating characteristic (ROC).\u001B[39;00m\n\u001B[0;32m   1007\u001B[0m \n\u001B[0;32m   1008\u001B[0m \u001B[38;5;124;03m    Note: this implementation is restricted to the binary classification task.\u001B[39;00m\n\u001B[1;32m   (...)\u001B[0m\n\u001B[0;32m   1093\u001B[0m \u001B[38;5;124;03m    array([ inf, 0.8 , 0.4 , 0.35, 0.1 ])\u001B[39;00m\n\u001B[0;32m   1094\u001B[0m \u001B[38;5;124;03m    \"\"\"\u001B[39;00m\n\u001B[1;32m-> 1095\u001B[0m     fps, tps, thresholds \u001B[38;5;241m=\u001B[39m \u001B[43m_binary_clf_curve\u001B[49m\u001B[43m(\u001B[49m\n\u001B[0;32m   1096\u001B[0m \u001B[43m        \u001B[49m\u001B[43my_true\u001B[49m\u001B[43m,\u001B[49m\u001B[43m \u001B[49m\u001B[43my_score\u001B[49m\u001B[43m,\u001B[49m\u001B[43m \u001B[49m\u001B[43mpos_label\u001B[49m\u001B[38;5;241;43m=\u001B[39;49m\u001B[43mpos_label\u001B[49m\u001B[43m,\u001B[49m\u001B[43m \u001B[49m\u001B[43msample_weight\u001B[49m\u001B[38;5;241;43m=\u001B[39;49m\u001B[43msample_weight\u001B[49m\n\u001B[0;32m   1097\u001B[0m \u001B[43m    \u001B[49m\u001B[43m)\u001B[49m\n\u001B[0;32m   1099\u001B[0m     \u001B[38;5;66;03m# Attempt to drop thresholds corresponding to points in between and\u001B[39;00m\n\u001B[0;32m   1100\u001B[0m     \u001B[38;5;66;03m# collinear with other points. These are always suboptimal and do not\u001B[39;00m\n\u001B[0;32m   1101\u001B[0m     \u001B[38;5;66;03m# appear on a plotted ROC curve (and thus do not affect the AUC).\u001B[39;00m\n\u001B[1;32m   (...)\u001B[0m\n\u001B[0;32m   1106\u001B[0m     \u001B[38;5;66;03m# but does not drop more complicated cases like fps = [1, 3, 7],\u001B[39;00m\n\u001B[0;32m   1107\u001B[0m     \u001B[38;5;66;03m# tps = [1, 2, 4]; there is no harm in keeping too many thresholds.\u001B[39;00m\n\u001B[0;32m   1108\u001B[0m     \u001B[38;5;28;01mif\u001B[39;00m drop_intermediate \u001B[38;5;129;01mand\u001B[39;00m \u001B[38;5;28mlen\u001B[39m(fps) \u001B[38;5;241m>\u001B[39m \u001B[38;5;241m2\u001B[39m:\n",
      "File \u001B[1;32m~\\AppData\\Local\\pypoetry\\Cache\\virtualenvs\\machinelearning-Uve55_Wm-py3.11\\Lib\\site-packages\\sklearn\\metrics\\_ranking.py:804\u001B[0m, in \u001B[0;36m_binary_clf_curve\u001B[1;34m(y_true, y_score, pos_label, sample_weight)\u001B[0m\n\u001B[0;32m    802\u001B[0m y_type \u001B[38;5;241m=\u001B[39m type_of_target(y_true, input_name\u001B[38;5;241m=\u001B[39m\u001B[38;5;124m\"\u001B[39m\u001B[38;5;124my_true\u001B[39m\u001B[38;5;124m\"\u001B[39m)\n\u001B[0;32m    803\u001B[0m \u001B[38;5;28;01mif\u001B[39;00m \u001B[38;5;129;01mnot\u001B[39;00m (y_type \u001B[38;5;241m==\u001B[39m \u001B[38;5;124m\"\u001B[39m\u001B[38;5;124mbinary\u001B[39m\u001B[38;5;124m\"\u001B[39m \u001B[38;5;129;01mor\u001B[39;00m (y_type \u001B[38;5;241m==\u001B[39m \u001B[38;5;124m\"\u001B[39m\u001B[38;5;124mmulticlass\u001B[39m\u001B[38;5;124m\"\u001B[39m \u001B[38;5;129;01mand\u001B[39;00m pos_label \u001B[38;5;129;01mis\u001B[39;00m \u001B[38;5;129;01mnot\u001B[39;00m \u001B[38;5;28;01mNone\u001B[39;00m)):\n\u001B[1;32m--> 804\u001B[0m     \u001B[38;5;28;01mraise\u001B[39;00m \u001B[38;5;167;01mValueError\u001B[39;00m(\u001B[38;5;124m\"\u001B[39m\u001B[38;5;132;01m{0}\u001B[39;00m\u001B[38;5;124m format is not supported\u001B[39m\u001B[38;5;124m\"\u001B[39m\u001B[38;5;241m.\u001B[39mformat(y_type))\n\u001B[0;32m    806\u001B[0m check_consistent_length(y_true, y_score, sample_weight)\n\u001B[0;32m    807\u001B[0m y_true \u001B[38;5;241m=\u001B[39m column_or_1d(y_true)\n",
      "\u001B[1;31mValueError\u001B[0m: multilabel-indicator format is not supported"
     ]
    }
   ],
   "source": [
    "from sklearn.preprocessing import label_binarize\n",
    "from sklearn.metrics import roc_curve, auc\n",
    "\n",
    "# Binarize the output\n",
    "y = label_binarize(y_test, classes=[0, 1, 2])\n",
    "n_classes = y.shape[1]\n",
    "\n",
    "# Compute ROC curve and ROC area for each class\n",
    "fpr = dict()\n",
    "tpr = dict()\n",
    "roc_auc = dict()\n",
    "\n",
    "for i in range(n_classes):\n",
    "    fpr[i], tpr[i], _ = roc_curve(y, y_pred_ovo_knn)\n",
    "    roc_auc[i] = auc(fpr[i], tpr[i])\n",
    "\n",
    "# Plot of a ROC curve for a specific class\n",
    "for i in range(n_classes):\n",
    "    plt.figure()\n",
    "    plt.plot(fpr[i], tpr[i], label='ROC curve (area = %0.2f)' % roc_auc[i])\n",
    "    plt.plot([0, 1], [0, 1], 'k--')\n",
    "    plt.xlim([0.0, 1.0])\n",
    "    plt.ylim([0.0, 1.05])\n",
    "    plt.xlabel('False Positive Rate')\n",
    "    plt.ylabel('True Positive Rate')\n",
    "    plt.title('Receiver operating characteristic example')\n",
    "    plt.legend(loc=\"lower right\")\n",
    "    plt.show()"
   ],
   "metadata": {
    "collapsed": false,
    "pycharm": {
     "name": "#%%\n"
    }
   }
  },
  {
   "cell_type": "code",
   "execution_count": null,
   "outputs": [],
   "source": [
    "\n"
   ],
   "metadata": {
    "collapsed": false,
    "pycharm": {
     "name": "#%%\n"
    }
   }
  },
  {
   "cell_type": "code",
   "execution_count": null,
   "outputs": [],
   "source": [],
   "metadata": {
    "collapsed": false,
    "pycharm": {
     "name": "#%%\n"
    }
   }
  },
  {
   "cell_type": "code",
   "execution_count": null,
   "outputs": [],
   "source": [],
   "metadata": {
    "collapsed": false,
    "pycharm": {
     "name": "#%%\n"
    }
   }
  },
  {
   "cell_type": "code",
   "execution_count": null,
   "outputs": [],
   "source": [],
   "metadata": {
    "collapsed": false,
    "pycharm": {
     "name": "#%%\n"
    }
   }
  }
 ],
 "metadata": {
  "kernelspec": {
   "display_name": "Python 3",
   "language": "python",
   "name": "python3"
  },
  "language_info": {
   "codemirror_mode": {
    "name": "ipython",
    "version": 2
   },
   "file_extension": ".py",
   "mimetype": "text/x-python",
   "name": "python",
   "nbconvert_exporter": "python",
   "pygments_lexer": "ipython2",
   "version": "2.7.6"
  }
 },
 "nbformat": 4,
 "nbformat_minor": 0
}